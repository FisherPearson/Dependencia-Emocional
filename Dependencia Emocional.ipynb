{
 "cells": [
  {
   "cell_type": "markdown",
   "metadata": {},
   "source": [
    "<h1><center>PROYECTO : INDEPENDENCIA EMOCIONAL</center></h1>\n"
   ]
  },
  {
   "cell_type": "code",
   "execution_count": 1,
   "metadata": {},
   "outputs": [],
   "source": [
    "%matplotlib inline\n",
    "import pandas as pd\n",
    "import matplotlib.pyplot as plt\n",
    "import re\n",
    "from nltk.probability import FreqDist\n",
    "import nltk\n",
    "import numpy as np\n",
    "import statistics as stat\n",
    "import warnings\n",
    "from pandas.core.common import SettingWithCopyWarning\n",
    "import seaborn as sns"
   ]
  },
  {
   "cell_type": "markdown",
   "metadata": {},
   "source": [
    "Ignorar futuros avisos:"
   ]
  },
  {
   "cell_type": "code",
   "execution_count": 2,
   "metadata": {},
   "outputs": [],
   "source": [
    "warnings.simplefilter(action=\"ignore\", category=SettingWithCopyWarning)"
   ]
  },
  {
   "cell_type": "code",
   "execution_count": 3,
   "metadata": {},
   "outputs": [
    {
     "data": {
      "text/html": [
       "<div>\n",
       "<style scoped>\n",
       "    .dataframe tbody tr th:only-of-type {\n",
       "        vertical-align: middle;\n",
       "    }\n",
       "\n",
       "    .dataframe tbody tr th {\n",
       "        vertical-align: top;\n",
       "    }\n",
       "\n",
       "    .dataframe thead th {\n",
       "        text-align: right;\n",
       "    }\n",
       "</style>\n",
       "<table border=\"1\" class=\"dataframe\">\n",
       "  <thead>\n",
       "    <tr style=\"text-align: right;\">\n",
       "      <th></th>\n",
       "      <th>Timestamp</th>\n",
       "      <th>Sexo</th>\n",
       "      <th>Edad</th>\n",
       "      <th>País</th>\n",
       "      <th>Ocupación</th>\n",
       "      <th>Orientación Sexual</th>\n",
       "      <th>¿Eres segura/seguro de ti mismo?</th>\n",
       "      <th>¿Te sientes segura/seguro estando sola/solo?</th>\n",
       "      <th>¿Dependes de otras personas para animarte a realizar nuevas actividades?</th>\n",
       "      <th>¿Necesitas saber que hay gente que respalda tu opinión para poder expresarla?</th>\n",
       "      <th>...</th>\n",
       "      <th>¿Cuáles fueron las principales razónes por las que fuiste infiel?</th>\n",
       "      <th>En promedio, ¿Cuánto dinero le dedicas/dedicabas a tu pareja al mes?</th>\n",
       "      <th>En promedio, ¿Cuántas horas a la semana pasas/pasabas con tu pareja?</th>\n",
       "      <th>¿Cuánto ha durado tu relación más larga?</th>\n",
       "      <th>¿Consideras que tu pareja te satisface/satisfizo en todos los ámbitos?</th>\n",
       "      <th>¿Tienes relaciones sexuales con personas que no conoces frecuentemente?</th>\n",
       "      <th>Tu pareja te amenaza con dejarte porque no quieres mantener relaciones sexuales con ella/él, tú...</th>\n",
       "      <th>¿Consideras la posibilidad de tener hijos?</th>\n",
       "      <th>¿Por qué te gustaría/no te gustaría tener hijos?</th>\n",
       "      <th>¿Cuántos hijos tienes/te gustaría tener?</th>\n",
       "    </tr>\n",
       "  </thead>\n",
       "  <tbody>\n",
       "    <tr>\n",
       "      <th>0</th>\n",
       "      <td>2021/06/15 2:46:13 am GMT-5</td>\n",
       "      <td>Femenino</td>\n",
       "      <td>21</td>\n",
       "      <td>México</td>\n",
       "      <td>Estudiante</td>\n",
       "      <td>Heterosexual</td>\n",
       "      <td>No</td>\n",
       "      <td>Sí</td>\n",
       "      <td>No</td>\n",
       "      <td>No</td>\n",
       "      <td>...</td>\n",
       "      <td>No he sido infiel.</td>\n",
       "      <td>800</td>\n",
       "      <td>8</td>\n",
       "      <td>2 años</td>\n",
       "      <td>No</td>\n",
       "      <td>No</td>\n",
       "      <td>Te niegas y la/lo dejas.</td>\n",
       "      <td>Tal vez</td>\n",
       "      <td>NaN</td>\n",
       "      <td>2</td>\n",
       "    </tr>\n",
       "    <tr>\n",
       "      <th>1</th>\n",
       "      <td>2021/06/15 3:17:55 am GMT-5</td>\n",
       "      <td>Masculino</td>\n",
       "      <td>22</td>\n",
       "      <td>Mexico</td>\n",
       "      <td>Programador</td>\n",
       "      <td>Heterosexual</td>\n",
       "      <td>Sí</td>\n",
       "      <td>Sí</td>\n",
       "      <td>No</td>\n",
       "      <td>No</td>\n",
       "      <td>...</td>\n",
       "      <td>No he sido infiel.</td>\n",
       "      <td>2000</td>\n",
       "      <td>20</td>\n",
       "      <td>7 meses</td>\n",
       "      <td>No</td>\n",
       "      <td>Sí</td>\n",
       "      <td>Aceptas pero sabes que gradualmente eso te des...</td>\n",
       "      <td>Sí</td>\n",
       "      <td>Me gusta la idea de tener una familia</td>\n",
       "      <td>3</td>\n",
       "    </tr>\n",
       "    <tr>\n",
       "      <th>2</th>\n",
       "      <td>2021/06/15 3:30:24 am GMT-5</td>\n",
       "      <td>Masculino</td>\n",
       "      <td>19</td>\n",
       "      <td>México</td>\n",
       "      <td>Estudiante</td>\n",
       "      <td>Heterosexual</td>\n",
       "      <td>Sí</td>\n",
       "      <td>Sí</td>\n",
       "      <td>No</td>\n",
       "      <td>No</td>\n",
       "      <td>...</td>\n",
       "      <td>No he sido infiel.</td>\n",
       "      <td>1200</td>\n",
       "      <td>35 hrs</td>\n",
       "      <td>1 año 6 meses</td>\n",
       "      <td>Sí</td>\n",
       "      <td>No</td>\n",
       "      <td>Te niegas y la/lo dejas.</td>\n",
       "      <td>Tal vez</td>\n",
       "      <td>En dado caso de que tenga una economía y famil...</td>\n",
       "      <td>2</td>\n",
       "    </tr>\n",
       "    <tr>\n",
       "      <th>3</th>\n",
       "      <td>2021/06/15 4:49:35 am GMT-5</td>\n",
       "      <td>Masculino</td>\n",
       "      <td>21</td>\n",
       "      <td>Medico</td>\n",
       "      <td>Trabajador</td>\n",
       "      <td>Heterosexual</td>\n",
       "      <td>No</td>\n",
       "      <td>No</td>\n",
       "      <td>Sí</td>\n",
       "      <td>No</td>\n",
       "      <td>...</td>\n",
       "      <td>Despecho</td>\n",
       "      <td>2000</td>\n",
       "      <td>35</td>\n",
       "      <td>10 meses</td>\n",
       "      <td>Sí</td>\n",
       "      <td>No</td>\n",
       "      <td>Te niegas y la/lo dejas.</td>\n",
       "      <td>Sí</td>\n",
       "      <td>Educar a alguien de bien</td>\n",
       "      <td>2</td>\n",
       "    </tr>\n",
       "    <tr>\n",
       "      <th>4</th>\n",
       "      <td>2021/06/15 8:12:45 am GMT-5</td>\n",
       "      <td>Femenino</td>\n",
       "      <td>23</td>\n",
       "      <td>México</td>\n",
       "      <td>Empleado</td>\n",
       "      <td>Heterosexual</td>\n",
       "      <td>No</td>\n",
       "      <td>Sí</td>\n",
       "      <td>No</td>\n",
       "      <td>Sí</td>\n",
       "      <td>...</td>\n",
       "      <td>Me aburría</td>\n",
       "      <td>.</td>\n",
       "      <td>12</td>\n",
       "      <td>1año 6 meses</td>\n",
       "      <td>Sí</td>\n",
       "      <td>No</td>\n",
       "      <td>Te niegas y la/lo dejas.</td>\n",
       "      <td>Sí</td>\n",
       "      <td>Me gustaría experimentar la sensación de ser m...</td>\n",
       "      <td>2</td>\n",
       "    </tr>\n",
       "  </tbody>\n",
       "</table>\n",
       "<p>5 rows × 42 columns</p>\n",
       "</div>"
      ],
      "text/plain": [
       "                     Timestamp       Sexo  Edad     País    Ocupación  \\\n",
       "0  2021/06/15 2:46:13 am GMT-5   Femenino    21   México   Estudiante   \n",
       "1  2021/06/15 3:17:55 am GMT-5  Masculino    22   Mexico  Programador   \n",
       "2  2021/06/15 3:30:24 am GMT-5  Masculino    19  México    Estudiante   \n",
       "3  2021/06/15 4:49:35 am GMT-5  Masculino    21  Medico    Trabajador   \n",
       "4  2021/06/15 8:12:45 am GMT-5   Femenino    23  México     Empleado    \n",
       "\n",
       "  Orientación Sexual ¿Eres segura/seguro de ti mismo?  \\\n",
       "0       Heterosexual                               No   \n",
       "1       Heterosexual                               Sí   \n",
       "2       Heterosexual                               Sí   \n",
       "3       Heterosexual                               No   \n",
       "4       Heterosexual                               No   \n",
       "\n",
       "  ¿Te sientes segura/seguro estando sola/solo?   \\\n",
       "0                                            Sí   \n",
       "1                                            Sí   \n",
       "2                                            Sí   \n",
       "3                                            No   \n",
       "4                                            Sí   \n",
       "\n",
       "  ¿Dependes de otras personas para animarte a realizar nuevas actividades?  \\\n",
       "0                                                 No                         \n",
       "1                                                 No                         \n",
       "2                                                 No                         \n",
       "3                                                 Sí                         \n",
       "4                                                 No                         \n",
       "\n",
       "  ¿Necesitas saber que hay gente que respalda tu opinión para poder expresarla?  \\\n",
       "0                                                 No                              \n",
       "1                                                 No                              \n",
       "2                                                 No                              \n",
       "3                                                 No                              \n",
       "4                                                 Sí                              \n",
       "\n",
       "   ... ¿Cuáles fueron las principales razónes por las que fuiste infiel?  \\\n",
       "0  ...                                 No he sido infiel.                  \n",
       "1  ...                                 No he sido infiel.                  \n",
       "2  ...                                 No he sido infiel.                  \n",
       "3  ...                                           Despecho                  \n",
       "4  ...                                        Me aburría                   \n",
       "\n",
       "  En promedio, ¿Cuánto dinero le dedicas/dedicabas a tu pareja al mes?   \\\n",
       "0                                                800                      \n",
       "1                                               2000                      \n",
       "2                                               1200                      \n",
       "3                                               2000                      \n",
       "4                                                 .                       \n",
       "\n",
       "   En promedio, ¿Cuántas horas a la semana pasas/pasabas con tu pareja?  \\\n",
       "0                                                  8                      \n",
       "1                                                 20                      \n",
       "2                                             35 hrs                      \n",
       "3                                                 35                      \n",
       "4                                                 12                      \n",
       "\n",
       "   ¿Cuánto ha durado tu relación más larga?  \\\n",
       "0                                    2 años   \n",
       "1                                   7 meses   \n",
       "2                            1 año 6 meses    \n",
       "3                                  10 meses   \n",
       "4                             1año 6 meses    \n",
       "\n",
       "   ¿Consideras que tu pareja te satisface/satisfizo en todos los ámbitos?  \\\n",
       "0                                                 No                        \n",
       "1                                                 No                        \n",
       "2                                                 Sí                        \n",
       "3                                                 Sí                        \n",
       "4                                                 Sí                        \n",
       "\n",
       "   ¿Tienes relaciones sexuales con personas que no conoces frecuentemente?  \\\n",
       "0                                                 No                         \n",
       "1                                                 Sí                         \n",
       "2                                                 No                         \n",
       "3                                                 No                         \n",
       "4                                                 No                         \n",
       "\n",
       "   Tu pareja te amenaza con dejarte porque no quieres mantener relaciones sexuales con ella/él, tú...  \\\n",
       "0                           Te niegas y la/lo dejas.                                                    \n",
       "1  Aceptas pero sabes que gradualmente eso te des...                                                    \n",
       "2                           Te niegas y la/lo dejas.                                                    \n",
       "3                           Te niegas y la/lo dejas.                                                    \n",
       "4                           Te niegas y la/lo dejas.                                                    \n",
       "\n",
       "   ¿Consideras la posibilidad de tener hijos?  \\\n",
       "0                                     Tal vez   \n",
       "1                                          Sí   \n",
       "2                                     Tal vez   \n",
       "3                                          Sí   \n",
       "4                                          Sí   \n",
       "\n",
       "    ¿Por qué te gustaría/no te gustaría tener hijos?  \\\n",
       "0                                                NaN   \n",
       "1              Me gusta la idea de tener una familia   \n",
       "2  En dado caso de que tenga una economía y famil...   \n",
       "3                           Educar a alguien de bien   \n",
       "4  Me gustaría experimentar la sensación de ser m...   \n",
       "\n",
       "   ¿Cuántos hijos tienes/te gustaría tener?  \n",
       "0                                         2  \n",
       "1                                         3  \n",
       "2                                         2  \n",
       "3                                         2  \n",
       "4                                         2  \n",
       "\n",
       "[5 rows x 42 columns]"
      ]
     },
     "execution_count": 3,
     "metadata": {},
     "output_type": "execute_result"
    }
   ],
   "source": [
    "df = pd.read_csv(\"DEPENDENCIA EMOCIONAL.csv\")\n",
    "df.head(5)"
   ]
  },
  {
   "cell_type": "markdown",
   "metadata": {},
   "source": [
    "<h1><center>DATA CLEANING/FEATURE INGINEERING</center></h1>\n",
    "Se analizará columna por columna cuyas respuestas fueron asignadas como abiertas en la encuesta. Es más probable encontrar discrepancias en ellas. Estas columnas fueron las preguntas: <br><br>\n",
    "1. Edad; <br>\n",
    "2. País; <br>\n",
    "3. Ocupación;<br> \n",
    "4. Orientación Sexual; <br>\n",
    "5. ¿Cuántas parejas has tenido en toda tu vida?; <br>\n",
    "6. En promedio, ¿Cuánto dinero le dedicas/dedicabas a tu pareja al mes?; <br>\n",
    "7. En promedio, ¿Cuántas horas a la semana pasas/pasabas con tu pareja?;<br>\n",
    "8. ¿Cuánto ha durado tu relación más larga? <br><br>\n",
    "\n",
    "No se considerarán las siguientes preguntas abiertas en la sección de arriba, pues se tratan de repuestas personales y opiniones: <br>\n",
    "1. ¿Qué le dirías a tu ex pareja si la vieras de nuevo?; <br>\n",
    "2. ¿Cómo sería tu pareja ideal?; <br>\n",
    "3. ¿Por qué fuiste infiel?; <br>\n",
    "4. ¿Cuáles fueron las principales razónes por las que fuiste infiel?;<br>\n",
    "5. ¿Por qué te gustaría/no te gustaría tener hijos?;<br>\n",
    "6. ¿Cuántos hijos tienes/te gustaría tener? <br>\n",
    "\n",
    "\n",
    "También existen preguntas no obligatórias. Esto puede repercutir en la información como valores NaN, los cuales tienen que ser sustituidos por algún valor en específico dependiendo de la pregunta. <br>\n",
    "En muchas de las 42 columnas, la información no esta homogenizada con el mismo tipo de dato: <br><br>\n",
    "- algunos deberían ser numéricos y contienen rangos; <br>\n",
    "- otros contienen faltas de ortografía; <br>\n",
    "- en algunas preguntas se dio la oportunidad de seleccionar más de dos opciones y por lo tanto, hay columnas con varios datos en una misma celda;<br>\n",
    "- Para trabajar de manera más sencilla y efectiva, se requiere cambiar la mayoría de las variables string a variables ordinales.<br>\n",
    "- Periodos de tiempo son alfanuméricos en ciertas preguntas. Se necesita homogenizar en una escala conveniente.\n"
   ]
  },
  {
   "cell_type": "code",
   "execution_count": 4,
   "metadata": {
    "tags": []
   },
   "outputs": [],
   "source": [
    "#df.dtypes"
   ]
  },
  {
   "cell_type": "markdown",
   "metadata": {},
   "source": [
    "Se puede apreciar que: <br>\n",
    "- la columna \"Edad\" es numérica; por lo tanto, contiene solo valores numéricos. <br>\n",
    "- la columna \"¿Cuántas parejas has tenido en toda tu vida?\" es de tipo object cuando debería ser numérica; por lo tanto, contiene carácteres alfanumericos. <br>\n",
    "- la columna \"En promedio, ¿Cuánto dinero le dedicas/dedicabas a tu pareja al mes?\", \"En promedio, ¿Cuántas horas a la semana pasas/pasabas con tu pareja?\" y \" ¿Cuánto ha durado tu relación más larga?\" presentan el mismo problema con valores alfanumericos.<br>\n",
    "\n",
    "Se concluye que Edad es la única columna con respuestas abiertas con valores adecuados."
   ]
  },
  {
   "cell_type": "markdown",
   "metadata": {},
   "source": [
    "En muchos registros se agregó por alguna razón desconocida un espacio al final de la cadena de texto. Por ello, es necesarío remover esos espacios extra."
   ]
  },
  {
   "cell_type": "code",
   "execution_count": 5,
   "metadata": {},
   "outputs": [],
   "source": [
    "stripear = df.select_dtypes([\"object\"])\n",
    "df[stripear.columns] = stripear.apply(lambda x: x.str.strip())"
   ]
  },
  {
   "cell_type": "markdown",
   "metadata": {},
   "source": [
    "También es necesario poner todo en minúsculas."
   ]
  },
  {
   "cell_type": "code",
   "execution_count": 6,
   "metadata": {},
   "outputs": [],
   "source": [
    "df[stripear.columns] = stripear.apply(lambda x: x.str.lower())"
   ]
  },
  {
   "cell_type": "markdown",
   "metadata": {},
   "source": [
    "Es necesario saber en que columnas se deben de manejar valores NaN."
   ]
  },
  {
   "cell_type": "code",
   "execution_count": 7,
   "metadata": {},
   "outputs": [],
   "source": [
    "#df.isna().sum()"
   ]
  },
  {
   "cell_type": "markdown",
   "metadata": {},
   "source": [
    "Columnas Binarias\n",
    "---\n",
    "Antes que nada, los diferentes algorítmos de Machine Learning que se utilizarán necesitan valores numéricos. Todas aquellas columnas con valores Sí y No tendrás que ser traducidos a:<br><br>\n",
    "- Sí será 1\n",
    "- No será 0"
   ]
  },
  {
   "cell_type": "markdown",
   "metadata": {},
   "source": [
    "Columnas que tienen valores binários y que deben ser modificados."
   ]
  },
  {
   "cell_type": "code",
   "execution_count": 8,
   "metadata": {
    "tags": []
   },
   "outputs": [],
   "source": [
    "binarios = []\n",
    "for nombre in list(df.columns):\n",
    "    if \"no\" and \"sí\" in list(df[nombre].unique()) :\n",
    "        binarios.append(nombre)"
   ]
  },
  {
   "cell_type": "markdown",
   "metadata": {},
   "source": [
    "Hay que cerciorarse de que ninguna de estas columnas tenga NaNsm"
   ]
  },
  {
   "cell_type": "code",
   "execution_count": 9,
   "metadata": {
    "tags": []
   },
   "outputs": [
    {
     "data": {
      "text/plain": [
       "¿Eres segura/seguro de ti mismo?                                                 0\n",
       "¿Te sientes segura/seguro estando sola/solo?                                     0\n",
       "¿Dependes de otras personas para animarte a realizar nuevas actividades?         0\n",
       "¿Necesitas saber que hay gente que respalda tu opinión para poder expresarla?    0\n",
       "¿Temes por \"terminar solo\"?                                                      0\n",
       "¿Actualmente tienes pareja?                                                      0\n",
       "¿Alguna vez has regresado con una ex pareja?                                     0\n",
       "¿Alguna vez has sido infiel?                                                     0\n",
       "¿Alguna vez te han sido infiel?                                                  0\n",
       "Antes de haber sido infiel, ¿a ti te fueron infiel?                              0\n",
       "¿Has perdonado alguna infidelidad?                                               0\n",
       "¿Te han perdonado alguna infidelidad?                                            0\n",
       "¿Crees en la monogámia?                                                          0\n",
       "¿Consideras que tu pareja te satisface/satisfizo en todos los ámbitos?           0\n",
       "¿Tienes relaciones sexuales con personas que no conoces frecuentemente?          2\n",
       "¿Consideras la posibilidad de tener hijos?                                       0\n",
       "dtype: int64"
      ]
     },
     "execution_count": 9,
     "metadata": {},
     "output_type": "execute_result"
    }
   ],
   "source": [
    "df[binarios].isna().sum()"
   ]
  },
  {
   "cell_type": "markdown",
   "metadata": {},
   "source": [
    "Por lo visto existen 2 valores NaN en la penúltima pregunta; esa pregunta fue abierta. Mi hipótesis es que por miedo o pena esos 2 usuarios no quisieron reconocer la verdad por pudor: Si no tienes relaciones sexuales con personas que no conoces frecuente, entonces sería muy sencillo responder \"No\". Por lo tanto, los valores NaN en ea columna los voy a sustituir por valores 1."
   ]
  },
  {
   "cell_type": "code",
   "execution_count": 10,
   "metadata": {},
   "outputs": [],
   "source": [
    "df[\"¿Tienes relaciones sexuales con personas que no conoces frecuentemente?\"] = df[\"¿Tienes relaciones sexuales con personas que no conoces frecuentemente?\"].fillna(1)"
   ]
  },
  {
   "cell_type": "markdown",
   "metadata": {},
   "source": [
    "Proseguir haciendo la sustitución entera."
   ]
  },
  {
   "cell_type": "code",
   "execution_count": 11,
   "metadata": {},
   "outputs": [],
   "source": [
    "df[binarios] = df[binarios].apply(lambda x : x.replace(\"no\",0).replace(\"sí\",1))"
   ]
  },
  {
   "cell_type": "markdown",
   "metadata": {},
   "source": [
    "Algunas columnas contenian más valores distintos a \"Sí\" y \"No\", modificando así solo esos valores y dejando intactas las otras opciones. Esto no afectará en un futuro, incluso nos adelanta pasos."
   ]
  },
  {
   "cell_type": "markdown",
   "metadata": {},
   "source": [
    "Timestamp\n",
    "--\n",
    "Dado que la fecha en la que se registró la respuesta de los encuestados no es relevante para el análisis, se optará por eliminarla."
   ]
  },
  {
   "cell_type": "code",
   "execution_count": 12,
   "metadata": {},
   "outputs": [],
   "source": [
    "df.drop(columns = \"Timestamp\",inplace = True)"
   ]
  },
  {
   "cell_type": "markdown",
   "metadata": {},
   "source": [
    "Sexo\n",
    "---\n",
    "Modificar \"Feminino\" por F y Masculino por M."
   ]
  },
  {
   "cell_type": "code",
   "execution_count": 13,
   "metadata": {},
   "outputs": [],
   "source": [
    "df.Sexo = df.Sexo.replace(\"masculino\",\"M\").replace(\"femenino\",\"F\")"
   ]
  },
  {
   "cell_type": "markdown",
   "metadata": {},
   "source": [
    "País\n",
    "--\n",
    "México tiene muchos valores semejantes a \"México\". Es necesario convertirlos a \"México\". Existe un valor 54, el cual por conveniencia se sustituira por \"México\", pues es la moda.   "
   ]
  },
  {
   "cell_type": "code",
   "execution_count": 14,
   "metadata": {},
   "outputs": [
    {
     "data": {
      "text/plain": [
       "array(['méxico', 'mexico', 'méxico ', 'medico ', 'mexico ', 'brasil ',\n",
       "       'mejico', 'cdmx', '54', 'chile ', 'méxico tercermundista', 'chile',\n",
       "       'costa rica', 'argentina', 'los santos'], dtype=object)"
      ]
     },
     "execution_count": 14,
     "metadata": {},
     "output_type": "execute_result"
    }
   ],
   "source": [
    "df.País.value_counts();df.País.unique()"
   ]
  },
  {
   "cell_type": "code",
   "execution_count": 15,
   "metadata": {},
   "outputs": [
    {
     "data": {
      "text/plain": [
       "array(['méxico', 'chile', 'costa rica', 'argentina'], dtype=object)"
      ]
     },
     "execution_count": 15,
     "metadata": {},
     "output_type": "execute_result"
    }
   ],
   "source": [
    "def Mexico(x):\n",
    "    if x == \"chile\" or x == \"brasil\" or x == \"argentina\" or x == \"costa rica\": \n",
    "        return x\n",
    "    else:\n",
    "        return \"méxico\"\n",
    "        \n",
    "df.País = df.País.apply(lambda x: Mexico(x))\n",
    "df.País.unique()"
   ]
  },
  {
   "cell_type": "markdown",
   "metadata": {},
   "source": [
    "Ocupación\n",
    "--\n",
    "Existen profesiones que difieren en el genero. Para una mejor clasificación, solo se ocupará el género masculino. <br>\n",
    "\"Empleado y estudiante\" y \"Trabajadora dependiente - psicóloga\" se compactarán a \"Estudiante\" y a \"Psicólogo\"<br>\n",
    "\"Docente\" es sinónimo de \"Profesor\""
   ]
  },
  {
   "cell_type": "code",
   "execution_count": 16,
   "metadata": {
    "tags": []
   },
   "outputs": [
    {
     "data": {
      "text/plain": [
       "array(['estudiante', 'programador', 'trabajador', 'empleado ', 'empleada',\n",
       "       'empleado y estudiante ', 'ventas', 'modista ', 'taxista',\n",
       "       'profesora', 'contador', 'actuario', 'asistente ', 'carpintero',\n",
       "       'profesor', 'empleada ', 'trabajadora dependiente - psicóloga ',\n",
       "       'docente ', 'empleado', 'repartidor en motocicleta',\n",
       "       'laboratorista clínico', 'hogar ', 'administradora de empresa',\n",
       "       'desempleado', 'director de área en desarrollo de software',\n",
       "       'administradora de empresas', 'medico', 'investigador ',\n",
       "       'empresario', 'manicurista', 'enfermera '], dtype=object)"
      ]
     },
     "execution_count": 16,
     "metadata": {},
     "output_type": "execute_result"
    }
   ],
   "source": [
    "df.Ocupación.unique()"
   ]
  },
  {
   "cell_type": "code",
   "execution_count": 17,
   "metadata": {
    "tags": []
   },
   "outputs": [],
   "source": [
    "df.Ocupación = df.Ocupación.replace(\"empleado y estudiante\",\"estudiante\").replace(\"trabajadora dependiente - psicóloga\",\"psicólogo\").replace(\"docente\",\"profesor\")"
   ]
  },
  {
   "cell_type": "markdown",
   "metadata": {},
   "source": [
    "No todas las profesiones que terminan en \"a\" son profesiones con género femeníno. ¿Cuáles son las que sí?  "
   ]
  },
  {
   "cell_type": "code",
   "execution_count": 18,
   "metadata": {
    "tags": []
   },
   "outputs": [
    {
     "data": {
      "text/plain": [
       "['empleada',\n",
       " 'taxista',\n",
       " 'profesora',\n",
       " 'repartidor en motocicleta',\n",
       " 'administradora de empresa',\n",
       " 'manicurista']"
      ]
     },
     "execution_count": 18,
     "metadata": {},
     "output_type": "execute_result"
    }
   ],
   "source": [
    "profesiones = df.Ocupación.replace(\"empleado y estudiante\",\"estudiante\").replace(\"trabajadora dependiente - psicóloga\",\"psicólogo\").unique()\n",
    "[profesion for profesion in profesiones if profesion.endswith(\"a\")]"
   ]
  },
  {
   "cell_type": "code",
   "execution_count": 19,
   "metadata": {
    "tags": []
   },
   "outputs": [
    {
     "data": {
      "text/plain": [
       "array(['estudiante', 'programador', 'trabajador', 'empleado ', 'empleado',\n",
       "       'empleado y estudiante ', 'ventas', 'modista ', 'taxista',\n",
       "       'profesor', 'contador', 'actuario', 'asistente ', 'carpintero',\n",
       "       'empleada ', 'trabajadora dependiente - psicóloga ', 'docente ',\n",
       "       'repartidor en motocicleta', 'laboratorista clínico', 'hogar ',\n",
       "       'administrador', 'desempleado', 'desarrollador de software',\n",
       "       'medico', 'investigador ', 'empresario', 'manicurista',\n",
       "       'enfermera '], dtype=object)"
      ]
     },
     "execution_count": 19,
     "metadata": {},
     "output_type": "execute_result"
    }
   ],
   "source": [
    "df.Ocupación = df.Ocupación.replace(\"empleada\",\"empleado\").replace(\"profesora\",\"profesor\").replace(\"administradora de empresa\",\"administrador\").replace(\"enfermera\",\"enfermero\").replace(\"administradora de empresas\",\"administrador\").replace(\"director de área en desarrollo de software\",\"desarrollador de software\")\n",
    "df.Ocupación.unique()"
   ]
  },
  {
   "cell_type": "markdown",
   "metadata": {},
   "source": [
    "Orientación Sexual\n",
    "--\n",
    "Alguna persona agrego la opción \"Sin definir\" e \"Indefinida\"; se homogenearizará a \"Indefinida\". Por el momento se dejará tal cual, pero de ser necesario y conveniente esta podrá incluirse en una clase más general."
   ]
  },
  {
   "cell_type": "code",
   "execution_count": 20,
   "metadata": {},
   "outputs": [
    {
     "data": {
      "text/plain": [
       "array(['heterosexual', 'bisexual', 'demisexual', 'homosexual', 'asexual',\n",
       "       'indefinida', 'pansexual'], dtype=object)"
      ]
     },
     "execution_count": 20,
     "metadata": {},
     "output_type": "execute_result"
    }
   ],
   "source": [
    "df[\"Orientación Sexual\"].replace(\"sin definir\",\"indefinida\").unique()"
   ]
  },
  {
   "cell_type": "markdown",
   "metadata": {},
   "source": [
    "¿Cuántas parejas has tenido en toda tu vida?\n",
    "--\n",
    "Por simple inspección, dos cosas resaltan: <br><br>\n",
    "- al menos 3 tipos de respuestas alfanuméricas están presentes en la columna.\n",
    "- Existe una respuesta muy larga. Además, dentro de la misma pregunta, hay 2 dos cantidades que hacen referencia a parejas \"formales\" e \"informales\".\n",
    "- El valor \"69\" puede tratarse de un outlier o de una simple \"broma\"."
   ]
  },
  {
   "cell_type": "code",
   "execution_count": 21,
   "metadata": {
    "tags": []
   },
   "outputs": [
    {
     "data": {
      "text/plain": [
       "3    33\n",
       "4    33\n",
       "2    29\n",
       "1    17\n",
       "5    15\n",
       "Name: ¿Cuántas parejas has tenido en toda tu vida?, dtype: int64"
      ]
     },
     "execution_count": 21,
     "metadata": {},
     "output_type": "execute_result"
    }
   ],
   "source": [
    "df[\"¿Cuántas parejas has tenido en toda tu vida?\"].value_counts()[:5]"
   ]
  },
  {
   "cell_type": "markdown",
   "metadata": {},
   "source": [
    "Notar que existen dos registro completamente iguales. Quiere decir que pueden existir más de estos. "
   ]
  },
  {
   "cell_type": "code",
   "execution_count": 22,
   "metadata": {
    "tags": []
   },
   "outputs": [
    {
     "data": {
      "text/html": [
       "<div>\n",
       "<style scoped>\n",
       "    .dataframe tbody tr th:only-of-type {\n",
       "        vertical-align: middle;\n",
       "    }\n",
       "\n",
       "    .dataframe tbody tr th {\n",
       "        vertical-align: top;\n",
       "    }\n",
       "\n",
       "    .dataframe thead th {\n",
       "        text-align: right;\n",
       "    }\n",
       "</style>\n",
       "<table border=\"1\" class=\"dataframe\">\n",
       "  <thead>\n",
       "    <tr style=\"text-align: right;\">\n",
       "      <th></th>\n",
       "      <th>Sexo</th>\n",
       "      <th>Edad</th>\n",
       "      <th>País</th>\n",
       "      <th>Ocupación</th>\n",
       "      <th>Orientación Sexual</th>\n",
       "      <th>¿Eres segura/seguro de ti mismo?</th>\n",
       "      <th>¿Te sientes segura/seguro estando sola/solo?</th>\n",
       "      <th>¿Dependes de otras personas para animarte a realizar nuevas actividades?</th>\n",
       "      <th>¿Necesitas saber que hay gente que respalda tu opinión para poder expresarla?</th>\n",
       "      <th>¿Temes por \"terminar solo\"?</th>\n",
       "      <th>...</th>\n",
       "      <th>¿Cuáles fueron las principales razónes por las que fuiste infiel?</th>\n",
       "      <th>En promedio, ¿Cuánto dinero le dedicas/dedicabas a tu pareja al mes?</th>\n",
       "      <th>En promedio, ¿Cuántas horas a la semana pasas/pasabas con tu pareja?</th>\n",
       "      <th>¿Cuánto ha durado tu relación más larga?</th>\n",
       "      <th>¿Consideras que tu pareja te satisface/satisfizo en todos los ámbitos?</th>\n",
       "      <th>¿Tienes relaciones sexuales con personas que no conoces frecuentemente?</th>\n",
       "      <th>Tu pareja te amenaza con dejarte porque no quieres mantener relaciones sexuales con ella/él, tú...</th>\n",
       "      <th>¿Consideras la posibilidad de tener hijos?</th>\n",
       "      <th>¿Por qué te gustaría/no te gustaría tener hijos?</th>\n",
       "      <th>¿Cuántos hijos tienes/te gustaría tener?</th>\n",
       "    </tr>\n",
       "  </thead>\n",
       "  <tbody>\n",
       "    <tr>\n",
       "      <th>88</th>\n",
       "      <td>F</td>\n",
       "      <td>21</td>\n",
       "      <td>méxico</td>\n",
       "      <td>estudiante</td>\n",
       "      <td>heterosexual</td>\n",
       "      <td>1</td>\n",
       "      <td>1</td>\n",
       "      <td>1</td>\n",
       "      <td>0</td>\n",
       "      <td>0</td>\n",
       "      <td>...</td>\n",
       "      <td>me sentí atraída por alguien más</td>\n",
       "      <td>500</td>\n",
       "      <td>24</td>\n",
       "      <td>un año y 2 meses</td>\n",
       "      <td>1</td>\n",
       "      <td>0</td>\n",
       "      <td>te niegas y la/lo dejas.</td>\n",
       "      <td>1</td>\n",
       "      <td>me gustaría porque me gustan los niños y me em...</td>\n",
       "      <td>4</td>\n",
       "    </tr>\n",
       "    <tr>\n",
       "      <th>89</th>\n",
       "      <td>F</td>\n",
       "      <td>21</td>\n",
       "      <td>méxico</td>\n",
       "      <td>estudiante</td>\n",
       "      <td>heterosexual</td>\n",
       "      <td>1</td>\n",
       "      <td>1</td>\n",
       "      <td>1</td>\n",
       "      <td>0</td>\n",
       "      <td>0</td>\n",
       "      <td>...</td>\n",
       "      <td>me sentí atraída por alguien más</td>\n",
       "      <td>500</td>\n",
       "      <td>24</td>\n",
       "      <td>un año y 2 meses</td>\n",
       "      <td>1</td>\n",
       "      <td>0</td>\n",
       "      <td>te niegas y la/lo dejas.</td>\n",
       "      <td>1</td>\n",
       "      <td>me gustaría porque me gustan los niños y me em...</td>\n",
       "      <td>4</td>\n",
       "    </tr>\n",
       "  </tbody>\n",
       "</table>\n",
       "<p>2 rows × 41 columns</p>\n",
       "</div>"
      ],
      "text/plain": [
       "   Sexo  Edad    País   Ocupación Orientación Sexual  \\\n",
       "88    F    21  méxico  estudiante       heterosexual   \n",
       "89    F    21  méxico  estudiante       heterosexual   \n",
       "\n",
       "    ¿Eres segura/seguro de ti mismo?  \\\n",
       "88                                 1   \n",
       "89                                 1   \n",
       "\n",
       "    ¿Te sientes segura/seguro estando sola/solo?   \\\n",
       "88                                              1   \n",
       "89                                              1   \n",
       "\n",
       "    ¿Dependes de otras personas para animarte a realizar nuevas actividades?  \\\n",
       "88                                                  1                          \n",
       "89                                                  1                          \n",
       "\n",
       "    ¿Necesitas saber que hay gente que respalda tu opinión para poder expresarla?  \\\n",
       "88                                                  0                               \n",
       "89                                                  0                               \n",
       "\n",
       "    ¿Temes por \"terminar solo\"?   ...  \\\n",
       "88                             0  ...   \n",
       "89                             0  ...   \n",
       "\n",
       "   ¿Cuáles fueron las principales razónes por las que fuiste infiel?  \\\n",
       "88                  me sentí atraída por alguien más                   \n",
       "89                  me sentí atraída por alguien más                   \n",
       "\n",
       "    En promedio, ¿Cuánto dinero le dedicas/dedicabas a tu pareja al mes?   \\\n",
       "88                                                500                       \n",
       "89                                                500                       \n",
       "\n",
       "    En promedio, ¿Cuántas horas a la semana pasas/pasabas con tu pareja?  \\\n",
       "88                                                 24                      \n",
       "89                                                 24                      \n",
       "\n",
       "    ¿Cuánto ha durado tu relación más larga?  \\\n",
       "88                         un año y 2 meses    \n",
       "89                         un año y 2 meses    \n",
       "\n",
       "    ¿Consideras que tu pareja te satisface/satisfizo en todos los ámbitos?  \\\n",
       "88                                                  1                        \n",
       "89                                                  1                        \n",
       "\n",
       "    ¿Tienes relaciones sexuales con personas que no conoces frecuentemente?  \\\n",
       "88                                                  0                         \n",
       "89                                                  0                         \n",
       "\n",
       "    Tu pareja te amenaza con dejarte porque no quieres mantener relaciones sexuales con ella/él, tú...  \\\n",
       "88                           te niegas y la/lo dejas.                                                    \n",
       "89                           te niegas y la/lo dejas.                                                    \n",
       "\n",
       "    ¿Consideras la posibilidad de tener hijos?  \\\n",
       "88                                           1   \n",
       "89                                           1   \n",
       "\n",
       "     ¿Por qué te gustaría/no te gustaría tener hijos?  \\\n",
       "88  me gustaría porque me gustan los niños y me em...   \n",
       "89  me gustaría porque me gustan los niños y me em...   \n",
       "\n",
       "    ¿Cuántos hijos tienes/te gustaría tener?  \n",
       "88                                         4  \n",
       "89                                         4  \n",
       "\n",
       "[2 rows x 41 columns]"
      ]
     },
     "execution_count": 22,
     "metadata": {},
     "output_type": "execute_result"
    }
   ],
   "source": [
    "df[df[\"¿Cuántas parejas has tenido en toda tu vida?\"] == \"estables y formales 5\"]"
   ]
  },
  {
   "cell_type": "markdown",
   "metadata": {},
   "source": [
    "Es necesario borrar antes de proseguir este tipo de duplicados. En total, se tienen 10 duplicados y quitandolos no restan 157 registros."
   ]
  },
  {
   "cell_type": "code",
   "execution_count": 23,
   "metadata": {},
   "outputs": [],
   "source": [
    "df = df.drop_duplicates(ignore_index = True)"
   ]
  },
  {
   "cell_type": "code",
   "execution_count": 24,
   "metadata": {},
   "outputs": [
    {
     "data": {
      "text/plain": [
       "['\"serias\" 4',\n",
       " 'depende. formales? tres. informales? 5. si bien sé que esta pregunta no es el mejor espacio, me gustaría hacer una precisión: sí creo en la monogamia, pero no creo que sea la única dinámica de relación posible ni la más deseable (así como tampoco lo es la poligamia)',\n",
       " 'estables y formales 5',\n",
       " 'oficiales 3',\n",
       " 'ligues cuentan o solo oficialmente?',\n",
       " 'ninguna']"
      ]
     },
     "execution_count": 24,
     "metadata": {},
     "output_type": "execute_result"
    }
   ],
   "source": [
    "[valor for valor in df[\"¿Cuántas parejas has tenido en toda tu vida?\"] if not valor.isnumeric()]"
   ]
  },
  {
   "cell_type": "markdown",
   "metadata": {},
   "source": [
    "Estos son los valores que continen valores alfanumericos. Se nota que en la respuesta larga existe un valor string haciendo referencia a un valor numérico. ¿Qúe hacer y qué valor escoger en este caso?<br>\n",
    "- Dado que la moda es 3 y que la persona reveló que formalmente ha tenido 3 parejas, podemos inferir que el valor más conveniente es 3. Aún más, todos los valores string hacen referencia a parejas formales; esto solo fortalece la asunción.\n",
    "- O se puede sacar el promedio de 3 y 5, que sería 4, que también es un valor bastante común.<br>\n",
    "\n",
    "Se optará por la primera opción."
   ]
  },
  {
   "cell_type": "code",
   "execution_count": 25,
   "metadata": {
    "tags": []
   },
   "outputs": [],
   "source": [
    "df[\"¿Cuántas parejas has tenido en toda tu vida?\"] = df[\"¿Cuántas parejas has tenido en toda tu vida?\"].replace(\"depende. formales? tres. informales? 5. si bien sé que esta pregunta no es el mejor espacio, me gustaría hacer una precisión: sí creo en la monogamia, pero no creo que sea la única dinámica de relación posible ni la más deseable (así como tampoco lo es la poligamia)\",\"3\")"
   ]
  },
  {
   "cell_type": "markdown",
   "metadata": {},
   "source": [
    "En el caso de \"ligues cuentan o slo oficialmente?\" existe una confución por parte del entrevistado (de la cual asumo completa responsabilidad). Como en el caso anterior, será remplazada su respuesta por el valor \"3\".<br><br>\n",
    "Además, \"ninguno\" toma el valor \"0\"."
   ]
  },
  {
   "cell_type": "code",
   "execution_count": 26,
   "metadata": {
    "tags": []
   },
   "outputs": [],
   "source": [
    "df[\"¿Cuántas parejas has tenido en toda tu vida?\"] = df[\"¿Cuántas parejas has tenido en toda tu vida?\"].replace(\"ligues cuentan o solo oficialmente?\",\"3\").replace(\"nnguna\",\"0\")"
   ]
  },
  {
   "cell_type": "markdown",
   "metadata": {},
   "source": [
    "Además, existe un valor 69 caracterizado por ser el máximo. Esto, si bien, puede ser posible, se trata de un valor atípico muy extremo y probablemente es una \"broma\". Por lo tanto, se ha decidido sustituir ese valor por la moda: 3 "
   ]
  },
  {
   "cell_type": "code",
   "execution_count": 27,
   "metadata": {
    "tags": []
   },
   "outputs": [],
   "source": [
    "df[\"¿Cuántas parejas has tenido en toda tu vida?\"] = df[\"¿Cuántas parejas has tenido en toda tu vida?\"].replace(\"69\",\"3\")"
   ]
  },
  {
   "cell_type": "markdown",
   "metadata": {},
   "source": [
    "Para los demas casos, se hará uso de una expresión regular que solamente identifique cifras numéricas. Después se transformará a un tipo de dato _int_."
   ]
  },
  {
   "cell_type": "code",
   "execution_count": 28,
   "metadata": {},
   "outputs": [
    {
     "data": {
      "text/plain": [
       "array(['4', '2', '3', '9', '5', '15', '1', '0', '20', '6', '8', '25',\n",
       "       '\"serias\" 4', '10', '7', '11', '13', 'estables y formales 5',\n",
       "       'oficiales 3', 'ninguna'], dtype=object)"
      ]
     },
     "execution_count": 28,
     "metadata": {},
     "output_type": "execute_result"
    }
   ],
   "source": [
    "df[\"¿Cuántas parejas has tenido en toda tu vida?\"].unique()"
   ]
  },
  {
   "cell_type": "code",
   "execution_count": 29,
   "metadata": {
    "tags": []
   },
   "outputs": [],
   "source": [
    "df[\"¿Cuántas parejas has tenido en toda tu vida?\"] = df[\"¿Cuántas parejas has tenido en toda tu vida?\"].str.extract(pat = \"([0-9]{1,2})\").squeeze()\n",
    "df[\"¿Cuántas parejas has tenido en toda tu vida?\"] = df[\"¿Cuántas parejas has tenido en toda tu vida?\"].fillna(\"3\").astype(\"int64\")"
   ]
  },
  {
   "cell_type": "code",
   "execution_count": 30,
   "metadata": {
    "tags": []
   },
   "outputs": [
    {
     "data": {
      "text/plain": [
       "0      4\n",
       "1     13\n",
       "2     29\n",
       "3     36\n",
       "4     31\n",
       "5     16\n",
       "6      7\n",
       "7      7\n",
       "8      5\n",
       "9      4\n",
       "10     4\n",
       "11     1\n",
       "13     1\n",
       "15     1\n",
       "20     1\n",
       "25     1\n",
       "Name: ¿Cuántas parejas has tenido en toda tu vida?, dtype: int64"
      ]
     },
     "execution_count": 30,
     "metadata": {},
     "output_type": "execute_result"
    }
   ],
   "source": [
    "df[\"¿Cuántas parejas has tenido en toda tu vida?\"].value_counts(sort = False)"
   ]
  },
  {
   "cell_type": "markdown",
   "metadata": {},
   "source": [
    " En promedio, ¿Cuánto dinero le dedicas/dedicabas a tu pareja al mes?\n",
    " --"
   ]
  },
  {
   "cell_type": "code",
   "execution_count": 31,
   "metadata": {
    "tags": []
   },
   "outputs": [
    {
     "data": {
      "text/plain": [
       "array(['800', '2000', '1200', '. ', '1000', '$0', '800 pesos',\n",
       "       '500 aprox', '700', '100', '0', '500', 'ni idea ',\n",
       "       'no he realizado un estimado ', '0 pesos.',\n",
       "       'no tengo idea. quiero pensar que a mi actual pareja le dedico unos 1000 pesos mínimo.',\n",
       "       '300', 'depende de la situación pero son al menos 50 pesos',\n",
       "       '1,500', '400', '50', '350', '600', '100 pesos', '200',\n",
       "       '300 pesos', 'hasta 8,000', '50 pesos', '250', '6000', '1500',\n",
       "       '$500', 'nada', 'no recuerdo', 'no sé', 'entre 200 y 2000',\n",
       "       '2000 aprox.', '5,000', '1000-1500', '3000', '3mil pesos', '5000',\n",
       "       '500 pesos', 'no lo sé ', '30000 clp', '2000/3000 pero es mutuo ',\n",
       "       'unos 700', '$200-$500', 'nada, jaja', '1000 ',\n",
       "       'hasta unos 12mil pesos mexicanos', 'nada ', '4000', 'más de 1000',\n",
       "       'compartimos todos los gastos', '50 mil colones de costa rica',\n",
       "       '3000 ', 'ni idea.', '500 (creo) ', 'cero pesos', '10000',\n",
       "       'la verdad no tengo ni la cuenta ', '3500', '900',\n",
       "       'no sabría decir, varía por un acuerdo que suelo proponer xd', 'x'],\n",
       "      dtype=object)"
      ]
     },
     "execution_count": 31,
     "metadata": {},
     "output_type": "execute_result"
    }
   ],
   "source": [
    "df[\"En promedio, ¿Cuánto dinero le dedicas/dedicabas a tu pareja al mes? \"].unique()"
   ]
  },
  {
   "cell_type": "markdown",
   "metadata": {},
   "source": [
    "Detalles a resaltar y modificaciones por hacer:<br><br>\n",
    "- Muchas respuestas son ambiguas, dejando en claro que no se cuenta con la información demandada. Por lo tanto, se pretende llenar con alguna estadística de tendencia centrar cada uno de ellos. \n",
    "- Expresiones como \"mil\" y \",\" hacen que algunos números puedan ser mal capturados en el momento de su extracción; por lo tanto, es prioritario modificarlos para poder trabajar con ellos. \n",
    "- Existen 2 valores que no están en moneda nacional (MXN). Para ello, se han encontrado sus equivalencias [AQUÍ](https://www.google.com/search?q=convertor+divisas&rlz=1C1CHBF_frMX913MX913&oq=convertor+divisas&aqs=chrome..69i57j0i10l7j0i22i30l2.5631j1j15&sourceid=chrome&ie=UTF-8) .En resumen, a fecha del día de hoy 50000 CRC equivalen a 1648 MXN y 30000 clp equivalen a 824 MXN\n",
    "- Algunos valores están expresados en rangos: Para ello, se tomará el promedio de ambos extremos de cada rango. "
   ]
  },
  {
   "cell_type": "code",
   "execution_count": 32,
   "metadata": {},
   "outputs": [],
   "source": [
    "df[\"En promedio, ¿Cuánto dinero le dedicas/dedicabas a tu pareja al mes? \"] = df[\"En promedio, ¿Cuánto dinero le dedicas/dedicabas a tu pareja al mes? \"].str.replace(r\"[$,]\",\"\").str.replace(\"mil\",\"000\").str.replace(\"cero\",\"0\").str.replace(\"50 000 colones de costa rica\",\"1648\").str.replace(\"30000 clp\",\"824\")"
   ]
  },
  {
   "cell_type": "code",
   "execution_count": 33,
   "metadata": {
    "tags": []
   },
   "outputs": [],
   "source": [
    "lista_tuplas = [x for x in df[\"En promedio, ¿Cuánto dinero le dedicas/dedicabas a tu pareja al mes? \"].str.findall(r\"\\d+ y \\d+|\\d+[\\/-]?\\d{1,8}|\\d\")]"
   ]
  },
  {
   "cell_type": "code",
   "execution_count": 34,
   "metadata": {},
   "outputs": [],
   "source": [
    "for palabra in lista_tuplas:\n",
    "    if palabra == []:\n",
    "        pass\n",
    "    elif re.search(r\"[-\\/]| y \",palabra[0]):\n",
    "        lista = re.findall(r\"\\d+\",palabra[0])\n",
    "        lista1 = [int(numero) for numero in lista]\n",
    "        palabra[0] = str(sum(lista1)/len(lista1))"
   ]
  },
  {
   "cell_type": "code",
   "execution_count": 35,
   "metadata": {},
   "outputs": [
    {
     "data": {
      "image/png": "[encoded data removed]",
      "text/plain": [
       "<Figure size 432x288 with 1 Axes>"
      ]
     },
     "metadata": {
      "needs_background": "light"
     },
     "output_type": "display_data"
    }
   ],
   "source": [
    "valores_dinero = np.array([float(valor[0]) for valor in lista_tuplas if valor != []])\n",
    "plt.hist(valores_dinero,bins = 50)\n",
    "plt.show()"
   ]
  },
  {
   "cell_type": "code",
   "execution_count": 36,
   "metadata": {},
   "outputs": [
    {
     "data": {
      "text/plain": [
       "(1156.75, 600.0, 500.0)"
      ]
     },
     "execution_count": 36,
     "metadata": {},
     "output_type": "execute_result"
    }
   ],
   "source": [
    "np.mean(valores_dinero),stat.median(valores_dinero),stat.mode(valores_dinero)"
   ]
  },
  {
   "cell_type": "markdown",
   "metadata": {},
   "source": [
    "De acuerdo a lo mostrado por el histograma y por las medidas de disperción central calculadas arriba, se decide aceptar la mediana como valor para reemplazar los valores NaN."
   ]
  },
  {
   "cell_type": "code",
   "execution_count": 37,
   "metadata": {
    "tags": []
   },
   "outputs": [],
   "source": [
    "FINAL_dinero = [float(valor[0]) if valor != [] else stat.median(valores_dinero) for valor in lista_tuplas]"
   ]
  },
  {
   "cell_type": "code",
   "execution_count": 38,
   "metadata": {},
   "outputs": [],
   "source": [
    "df[\"En promedio, ¿Cuánto dinero le dedicas/dedicabas a tu pareja al mes? \"] = FINAL_dinero"
   ]
  },
  {
   "cell_type": "code",
   "execution_count": null,
   "metadata": {},
   "outputs": [],
   "source": []
  },
  {
   "cell_type": "markdown",
   "metadata": {},
   "source": [
    "---"
   ]
  },
  {
   "cell_type": "markdown",
   "metadata": {},
   "source": [
    "En promedio, ¿Cuántas horas a la semana pasas/pasabas con tu pareja?\n",
    "--"
   ]
  },
  {
   "cell_type": "code",
   "execution_count": 39,
   "metadata": {
    "tags": []
   },
   "outputs": [
    {
     "data": {
      "text/plain": [
       "array(['8', '20', '35 hrs', '35', '12', '5', '14', '9', '8 horas', '18',\n",
       "       '10', '0', '15', '30', 'depende mucho de la persona ', '10-15',\n",
       "       '3.', '5.5', 'actualmente 12', '40', '6', '10 horas', '3', '11',\n",
       "       'más de 15', '24 a 72 horas', '1 ', '23', '2.5', '7', '5-7', '5 ',\n",
       "       '50', '90', '33', '4', '2', '24 hrs', '15 ', '24', '48', '24/7',\n",
       "       'casi diario de 9-9', '21', '64 (virtual) ', '40-50', '5-6',\n",
       "       '12 horas', '7/7', 'con la última, más de 80hrs', '41',\n",
       "       'los veia el fin de semana y hablaba con ellos unas 5 hrs a la semana en todas mis  relaciones de pareja',\n",
       "       '1 o 2', 'todo el día (pandemia)', 'por lo menos 24 hrs',\n",
       "       'prácticamente diario hablaba con ambas pero en persona creo que de 3 a 4 días a la semana',\n",
       "       '100', '0.0', '22.5', 'en persona o por texto y llamadas?', 'x'],\n",
       "      dtype=object)"
      ]
     },
     "execution_count": 39,
     "metadata": {},
     "output_type": "execute_result"
    }
   ],
   "source": [
    "df[\"En promedio, ¿Cuántas horas a la semana pasas/pasabas con tu pareja?\"].unique()"
   ]
  },
  {
   "cell_type": "markdown",
   "metadata": {},
   "source": [
    "Es de interes conseguir el número de horas en números. En algunos casos no se expresa explícitamente el número sino un rango de valores (- o a /). <br><br>\n",
    "\n",
    "- Con una expresión regular se extraeran todos estos elementos.\n",
    "- En el caso de rangos, se buscará hacer un promedio de ambos valores tanto inferior como superior.\n",
    "- Algunos casos fueron considerados con tiempo virtual y por tanto las horas representan un valor mayor que el la mediana. Se aceptarán estos valores atípicos, pero en caso de ser necesario serán removidos.\n",
    "- Aquellos casos en los que no se devolvió un valor numérico se llenarán con el promedio, la media o la moda de toda la serie. En particular y por ambiguedad, el valor \"24/7\" también asumirá ese mismo valor."
   ]
  },
  {
   "cell_type": "code",
   "execution_count": 40,
   "metadata": {
    "tags": []
   },
   "outputs": [],
   "source": [
    "df[\"En promedio, ¿Cuántas horas a la semana pasas/pasabas con tu pareja?\"] = df[\"En promedio, ¿Cuántas horas a la semana pasas/pasabas con tu pareja?\"].str.replace(\"24/7\",\"\")\n",
    "lista_tuplas =[coin for coin in df[\"En promedio, ¿Cuántas horas a la semana pasas/pasabas con tu pareja?\"].str.findall(r\"\\d{1,2} [ao] \\d{1,2}|\\d{1,2}[.\\/-]?\\d{1,2}|\\d\")]"
   ]
  },
  {
   "cell_type": "markdown",
   "metadata": {},
   "source": [
    "Sustituir todos los rangos a sus promedios."
   ]
  },
  {
   "cell_type": "code",
   "execution_count": 41,
   "metadata": {},
   "outputs": [],
   "source": [
    "for rango in lista_tuplas:\n",
    "    if rango == []:\n",
    "        pass\n",
    "    elif re.search(r\"[-ao/]\",rango[0]):\n",
    "        dos = re.findall(r\"\\d{1,2}\",rango[0])\n",
    "        if dos[0] == dos[1]:\n",
    "            rango[0] = \"12\"\n",
    "        else:\n",
    "            dos = [int(x) for x in dos]\n",
    "            rango[0] = str(sum(dos)/len(dos))"
   ]
  },
  {
   "cell_type": "code",
   "execution_count": 42,
   "metadata": {},
   "outputs": [
    {
     "data": {
      "image/png": "[encoded data removed]",
      "text/plain": [
       "<Figure size 432x288 with 1 Axes>"
      ]
     },
     "metadata": {
      "needs_background": "light"
     },
     "output_type": "display_data"
    }
   ],
   "source": [
    "valores = np.array([float(valor[0]) for valor in lista_tuplas if valor != []])\n",
    "plt.hist(valores,bins = 11)\n",
    "plt.show()\n"
   ]
  },
  {
   "cell_type": "code",
   "execution_count": 43,
   "metadata": {},
   "outputs": [
    {
     "data": {
      "text/plain": [
       "(15.871794871794872, 11.5, 12.0)"
      ]
     },
     "execution_count": 43,
     "metadata": {},
     "output_type": "execute_result"
    }
   ],
   "source": [
    "valores.mean(),np.median(valores),stat.mode(valores)"
   ]
  },
  {
   "cell_type": "markdown",
   "metadata": {},
   "source": [
    "La gráfica de horas tiene un sesgo positivo evidente. Se tomará en cuenta la moda para ser sustituido en los casos en los que no existe información relevante ( [ ] )"
   ]
  },
  {
   "cell_type": "code",
   "execution_count": 44,
   "metadata": {
    "tags": []
   },
   "outputs": [],
   "source": [
    "for elemento in lista_tuplas:\n",
    "    if elemento == []:\n",
    "        elemento.append(stat.mode(valores))"
   ]
  },
  {
   "cell_type": "code",
   "execution_count": 45,
   "metadata": {
    "tags": []
   },
   "outputs": [],
   "source": [
    "horas_FINAL =[float(x[0]) for x in lista_tuplas]"
   ]
  },
  {
   "cell_type": "code",
   "execution_count": 46,
   "metadata": {
    "tags": []
   },
   "outputs": [],
   "source": [
    "df[\"En promedio, ¿Cuántas horas a la semana pasas/pasabas con tu pareja?\"] = horas_FINAL"
   ]
  },
  {
   "cell_type": "markdown",
   "metadata": {},
   "source": [
    "¿Cuánto ha durado tu relación más larga?\n",
    "--"
   ]
  },
  {
   "cell_type": "code",
   "execution_count": 47,
   "metadata": {
    "tags": []
   },
   "outputs": [
    {
     "data": {
      "text/plain": [
       "array(['2 años', '7 meses', '1 año 6 meses ', '10 meses', '1año 6 meses ',\n",
       "       '9 meses', '1 año y 8 meses. (contando porque es la actual)',\n",
       "       '3 años ', '4 meses', '1 año y dos meses', '+5 años',\n",
       "       'un año y siete meses ', '0', '2 meses y medio ', '1 mês ',\n",
       "       '17 años', '2 años 3 meses ', '2 años ', 'año y medio', '2 meses',\n",
       "       '1 año y 3 meses ',\n",
       "       'es la actual, llevo 1 año 10 meses de relación', '1 año 8 meses',\n",
       "       '5 años ', '1 año y x meses', '1 año 8 meses ', '3 años',\n",
       "       '1 año 10 meses', '6 meses', '11 meses ', '1 año y 8 meses ',\n",
       "       '4 años', '3 qñosv', '7 meses ', '9 meses ', '3 meses',\n",
       "       '3 años 5 meses ', 'cuatro meses', 'casi 5 años', '29 años ',\n",
       "       '1 año ', '25 años', '6 años', '3 meses ', '3 años y medio',\n",
       "       '35 años', '5 meses.', 'un año ', '1 año 1 mes ', '5 años',\n",
       "       '1año 9 meses ', '3 años 4 meses', '3años y 5meses', '4 años ',\n",
       "       'quince meses', 'dos años y medio', '16 meses', '1 año', '8 meses',\n",
       "       'medio año. ', '16 años',\n",
       "       'en términos formales? 4 meses y medio. considerando lapsos de relación informal? es complicado definir porque no hay un consenso con la otra persona, pero desde mi concepción fueron poco menos de 2 años y medio',\n",
       "       'un año y 2 meses ', '2 años 4 meses', '2 meses ', 'una semana',\n",
       "       '22 años', '8años', '19 años ', '1 año y 3 meses',\n",
       "       '2 años casi tres', 'llevomos 32 años juntos',\n",
       "       'dos años y casi un mes', '5 meses', '3 años y 5 meses',\n",
       "       '6 meses ', '5 meses ', 'medio año', 'un año', 'medio año ',\n",
       "       '6 años ', '1 año y medio', 'casi 4años', '16 años ', 'cinco años',\n",
       "       '8 años', '1 año 4 meses', '2 años con 7 meses', '2 años 7 meses',\n",
       "       '3 años y medio ', '3 años y sigue.', 'como 4 meses ', 'x'],\n",
       "      dtype=object)"
      ]
     },
     "execution_count": 47,
     "metadata": {},
     "output_type": "execute_result"
    }
   ],
   "source": [
    "df[\"¿Cuánto ha durado tu relación más larga?\"].unique()"
   ]
  },
  {
   "cell_type": "markdown",
   "metadata": {},
   "source": [
    "- La información está muy sucia. Para empezar, es claro que la información contiene strings, esto principalmente por la poca especificación al entrevistado sobre proveer los resultados en meses (numérico). A simple vista se puede ver que algunas personas utilizaron el nombre literal del número de meses o años. Es necesario ver que palábras contienen la información literal. Por convención, he decidido dejar los resultados en meses, es decir : 1 año 3 meses serán 15 meses. <br>\n",
    "- Además, hay ciertas respuestas que no contienen información relevante; por lo tanto, he decidio llenar esos lugares vacíos con la media de todos los resultados numéricos."
   ]
  },
  {
   "cell_type": "code",
   "execution_count": 48,
   "metadata": {},
   "outputs": [],
   "source": [
    "tiempo_relacion = \" \".join(df[\"¿Cuánto ha durado tu relación más larga?\"])\n",
    "tokens = nltk.word_tokenize(tiempo_relacion)"
   ]
  },
  {
   "cell_type": "code",
   "execution_count": 49,
   "metadata": {},
   "outputs": [
    {
     "data": {
      "text/plain": [
       "dict_keys(['2', 'años', '7', 'meses', '1', 'año', '6', '10', '1año', '9', 'y', '8', '.', '(', 'contando', 'porque', 'es', 'la', 'actual', ')', '3', '4', 'dos', '+5', 'un', 'siete', '0', 'medio', 'mês', '17', ',', 'llevo', 'de', 'relación', '5', 'x', '11', 'qñosv', 'cuatro', 'casi', '29', '25', '35', 'mes', '3años', '5meses', 'quince', '16', 'en', 'términos', 'formales', '?', 'considerando', 'lapsos', 'informal', 'complicado', 'definir', 'no', 'hay', 'consenso', 'con', 'otra', 'persona', 'pero', 'desde', 'mi', 'concepción', 'fueron', 'poco', 'menos', 'una', 'semana', '22', '8años', '19', 'tres', 'llevomos', '32', 'juntos', '4años', 'cinco', 'sigue', 'como'])"
      ]
     },
     "execution_count": 49,
     "metadata": {},
     "output_type": "execute_result"
    }
   ],
   "source": [
    "freq = FreqDist(tokens);freq.keys()"
   ]
  },
  {
   "cell_type": "code",
   "execution_count": 50,
   "metadata": {
    "tags": []
   },
   "outputs": [],
   "source": [
    "palabras = [palabra for palabra in list(freq.keys()) if not palabra.isnumeric()]"
   ]
  },
  {
   "cell_type": "markdown",
   "metadata": {},
   "source": [
    "Sustituiré todas las palabras que necesitan ser modificadas manualmente."
   ]
  },
  {
   "cell_type": "code",
   "execution_count": 51,
   "metadata": {
    "tags": []
   },
   "outputs": [],
   "source": [
    "df[\"¿Cuánto ha durado tu relación más larga?\"] = df[\"¿Cuánto ha durado tu relación más larga?\"].str.replace(\"medio\",\"6 meses\").str.replace(\"siete\",\"7\").str.replace(\"cinco\",\"5\").str.replace(\"tres\",\"3\").str.replace(\"4años\",\"4 años\").str.replace(\"8años\",\"8 años\").str.replace(\"una\",\"1\").str.replace(\"un\",\"1\").str.replace(\"quince\",\"15\").str.replace(\"5meses\",\"5 meses\").str.replace(\"3años\",\"3 años\").str.replace(\"cuatro\",\"4\").str.replace(\"qñosv\",\"años\").str.replace(\"mês\",\"mes\").str.replace(\"\\+5\",\"5\").str.replace(\"dos\",\"2\").str.replace(\"1año\",\"1 año\")"
   ]
  },
  {
   "cell_type": "markdown",
   "metadata": {},
   "source": [
    "La respuesta larga voy a resumirla a el tiempo el cual el entervistado asegura: 2 años 6 meses"
   ]
  },
  {
   "cell_type": "code",
   "execution_count": 52,
   "metadata": {
    "tags": []
   },
   "outputs": [
    {
     "data": {
      "text/html": [
       "<div>\n",
       "<style scoped>\n",
       "    .dataframe tbody tr th:only-of-type {\n",
       "        vertical-align: middle;\n",
       "    }\n",
       "\n",
       "    .dataframe tbody tr th {\n",
       "        vertical-align: top;\n",
       "    }\n",
       "\n",
       "    .dataframe thead th {\n",
       "        text-align: right;\n",
       "    }\n",
       "</style>\n",
       "<table border=\"1\" class=\"dataframe\">\n",
       "  <thead>\n",
       "    <tr style=\"text-align: right;\">\n",
       "      <th></th>\n",
       "      <th>Sexo</th>\n",
       "      <th>Edad</th>\n",
       "      <th>País</th>\n",
       "      <th>Ocupación</th>\n",
       "      <th>Orientación Sexual</th>\n",
       "      <th>¿Eres segura/seguro de ti mismo?</th>\n",
       "      <th>¿Te sientes segura/seguro estando sola/solo?</th>\n",
       "      <th>¿Dependes de otras personas para animarte a realizar nuevas actividades?</th>\n",
       "      <th>¿Necesitas saber que hay gente que respalda tu opinión para poder expresarla?</th>\n",
       "      <th>¿Temes por \"terminar solo\"?</th>\n",
       "      <th>...</th>\n",
       "      <th>¿Cuáles fueron las principales razónes por las que fuiste infiel?</th>\n",
       "      <th>En promedio, ¿Cuánto dinero le dedicas/dedicabas a tu pareja al mes?</th>\n",
       "      <th>En promedio, ¿Cuántas horas a la semana pasas/pasabas con tu pareja?</th>\n",
       "      <th>¿Cuánto ha durado tu relación más larga?</th>\n",
       "      <th>¿Consideras que tu pareja te satisface/satisfizo en todos los ámbitos?</th>\n",
       "      <th>¿Tienes relaciones sexuales con personas que no conoces frecuentemente?</th>\n",
       "      <th>Tu pareja te amenaza con dejarte porque no quieres mantener relaciones sexuales con ella/él, tú...</th>\n",
       "      <th>¿Consideras la posibilidad de tener hijos?</th>\n",
       "      <th>¿Por qué te gustaría/no te gustaría tener hijos?</th>\n",
       "      <th>¿Cuántos hijos tienes/te gustaría tener?</th>\n",
       "    </tr>\n",
       "  </thead>\n",
       "  <tbody>\n",
       "    <tr>\n",
       "      <th>84</th>\n",
       "      <td>M</td>\n",
       "      <td>21</td>\n",
       "      <td>méxico</td>\n",
       "      <td>estudiante</td>\n",
       "      <td>bisexual</td>\n",
       "      <td>0</td>\n",
       "      <td>1</td>\n",
       "      <td>0</td>\n",
       "      <td>1</td>\n",
       "      <td>0</td>\n",
       "      <td>...</td>\n",
       "      <td>el deseo de tener más experiencias, con otras ...</td>\n",
       "      <td>600.0</td>\n",
       "      <td>10.0</td>\n",
       "      <td>en términos formales? 4 meses y 6 meses. consi...</td>\n",
       "      <td>1</td>\n",
       "      <td>0</td>\n",
       "      <td>aceptas pero sabes que gradualmente eso te des...</td>\n",
       "      <td>tal vez</td>\n",
       "      <td>por mi parte me da curiosidad saber cómo sería...</td>\n",
       "      <td>0 o 1. si mi(s) pareja(s) deseara(n) más, podr...</td>\n",
       "    </tr>\n",
       "  </tbody>\n",
       "</table>\n",
       "<p>1 rows × 41 columns</p>\n",
       "</div>"
      ],
      "text/plain": [
       "   Sexo  Edad    País   Ocupación Orientación Sexual  \\\n",
       "84    M    21  méxico  estudiante           bisexual   \n",
       "\n",
       "    ¿Eres segura/seguro de ti mismo?  \\\n",
       "84                                 0   \n",
       "\n",
       "    ¿Te sientes segura/seguro estando sola/solo?   \\\n",
       "84                                              1   \n",
       "\n",
       "    ¿Dependes de otras personas para animarte a realizar nuevas actividades?  \\\n",
       "84                                                  0                          \n",
       "\n",
       "    ¿Necesitas saber que hay gente que respalda tu opinión para poder expresarla?  \\\n",
       "84                                                  1                               \n",
       "\n",
       "    ¿Temes por \"terminar solo\"?   ...  \\\n",
       "84                             0  ...   \n",
       "\n",
       "   ¿Cuáles fueron las principales razónes por las que fuiste infiel?  \\\n",
       "84  el deseo de tener más experiencias, con otras ...                  \n",
       "\n",
       "    En promedio, ¿Cuánto dinero le dedicas/dedicabas a tu pareja al mes?   \\\n",
       "84                                              600.0                       \n",
       "\n",
       "    En promedio, ¿Cuántas horas a la semana pasas/pasabas con tu pareja?  \\\n",
       "84                                               10.0                      \n",
       "\n",
       "             ¿Cuánto ha durado tu relación más larga?  \\\n",
       "84  en términos formales? 4 meses y 6 meses. consi...   \n",
       "\n",
       "    ¿Consideras que tu pareja te satisface/satisfizo en todos los ámbitos?  \\\n",
       "84                                                  1                        \n",
       "\n",
       "    ¿Tienes relaciones sexuales con personas que no conoces frecuentemente?  \\\n",
       "84                                                  0                         \n",
       "\n",
       "    Tu pareja te amenaza con dejarte porque no quieres mantener relaciones sexuales con ella/él, tú...  \\\n",
       "84  aceptas pero sabes que gradualmente eso te des...                                                    \n",
       "\n",
       "    ¿Consideras la posibilidad de tener hijos?  \\\n",
       "84                                     tal vez   \n",
       "\n",
       "     ¿Por qué te gustaría/no te gustaría tener hijos?  \\\n",
       "84  por mi parte me da curiosidad saber cómo sería...   \n",
       "\n",
       "             ¿Cuántos hijos tienes/te gustaría tener?  \n",
       "84  0 o 1. si mi(s) pareja(s) deseara(n) más, podr...  \n",
       "\n",
       "[1 rows x 41 columns]"
      ]
     },
     "execution_count": 52,
     "metadata": {},
     "output_type": "execute_result"
    }
   ],
   "source": [
    "df[df[\"¿Cuánto ha durado tu relación más larga?\"] == 'en términos formales? 4 meses y 6 meses. considerando lapsos de relación informal? es complicado definir porque no hay 1 consenso con la otra persona, pero desde mi concepción fueron poco menos de 2 años y 6 meses']"
   ]
  },
  {
   "cell_type": "code",
   "execution_count": 53,
   "metadata": {},
   "outputs": [],
   "source": [
    "df.at[86,\"¿Cuánto ha durado tu relación más larga?\"] = \"2 años y 6 meses\""
   ]
  },
  {
   "cell_type": "markdown",
   "metadata": {},
   "source": [
    "Pretendo hacer lo siguiente:<br><br>\n",
    "- Haré por fuera del DataFrame principal dos lista: una que tenga el número de años y otra que tenga el número de meses. Existe un registro con 1 semana de relación el cual se reducira a cero (1/4 = .25 ~0). <br>\n",
    "- Con la columna \"años\", el valor lo multiplicaré por 12 (12 meses en un año) y estos se sumarán a la columna \"meses\", la cual contendrá todas las fracciones de año (meses) de cada relación.<br>\n",
    "- Con esto busco homogenizar el tiempo entre relaciones."
   ]
  },
  {
   "cell_type": "code",
   "execution_count": 54,
   "metadata": {
    "tags": []
   },
   "outputs": [
    {
     "data": {
      "text/plain": [
       "array(['2 años', '7 meses', '1 año 6 meses ', '10 meses', '9 meses',\n",
       "       '1 año y 8 meses. (contando porque es la actual)', '3 años ',\n",
       "       '4 meses', '1 año y 2 meses', '5 años', '1 año y 7 meses ', '0',\n",
       "       '2 meses y 6 meses ', '1 mes ', '17 años', '2 años 3 meses ',\n",
       "       '2 años ', 'año y 6 meses', '2 meses', '1 año y 3 meses ',\n",
       "       'es la actual, llevo 1 año 10 meses de relación', '1 año 8 meses',\n",
       "       '5 años ', '1 año y x meses', '1 año 8 meses ', '3 años',\n",
       "       '1 año 10 meses', '6 meses', '11 meses ', '1 año y 8 meses ',\n",
       "       '4 años', '7 meses ', '9 meses ', '3 meses', '3 años 5 meses ',\n",
       "       'casi 5 años', '29 años ', '1 año ', '25 años', '6 años',\n",
       "       '3 meses ', '3 años y 6 meses', '35 años', '5 meses.',\n",
       "       '1 año 1 mes ', '1 año 9 meses ', '3 años 4 meses',\n",
       "       '3 años y 5 meses', '4 años ', '15 meses', '2 años y 6 meses',\n",
       "       '16 meses', '1 año', '8 meses', '6 meses año. ', '16 años',\n",
       "       'en términos formales? 4 meses y 6 meses. considerando lapsos de relación informal? es complicado definir porque no hay 1 consenso con la otra persona, pero desde mi concepción fueron poco menos de 2 años y 6 meses',\n",
       "       '2 años 4 meses', '2 meses ', '1 semana', '22 años', '8 años',\n",
       "       '19 años ', '1 año y 3 meses', '2 años casi 3',\n",
       "       'llevomos 32 años j1tos', '2 años y casi 1 mes', '5 meses',\n",
       "       '6 meses ', '5 meses ', '6 meses año', '6 meses año ', '6 años ',\n",
       "       '1 año y 6 meses', 'casi 4 años', '16 años ', '1 año 4 meses',\n",
       "       '2 años con 7 meses', '2 años 7 meses', '3 años y 6 meses ',\n",
       "       '3 años y sigue.', 'como 4 meses ', 'x'], dtype=object)"
      ]
     },
     "execution_count": 54,
     "metadata": {},
     "output_type": "execute_result"
    }
   ],
   "source": [
    "df[\"¿Cuánto ha durado tu relación más larga?\"].unique()"
   ]
  },
  {
   "cell_type": "markdown",
   "metadata": {},
   "source": [
    "La siguiente lista de comprehesión devulve el numero de años que hay en cada registro. Por separado y dentro de una tupla, tiene por datos el número de años y la palabra \"años\". Existen registros [] las cuales son aquellos que __NO__ tienen años en absoluto, \\[[,\"año(s)]\\] son aquellos que por error los entrevistados no digitaron el número 1 (se asume) y decidieron poner solo \"año y ...\""
   ]
  },
  {
   "cell_type": "code",
   "execution_count": 55,
   "metadata": {
    "tags": []
   },
   "outputs": [],
   "source": [
    "lista_tuplas =[coin for coin in df[\"¿Cuánto ha durado tu relación más larga?\"].str.findall(r\"(\\d{1,2} )?(año|años)\\b\")]"
   ]
  },
  {
   "cell_type": "markdown",
   "metadata": {},
   "source": [
    "- Se asume que los valores [] no tienen años (valor 0)<br>\n",
    "- Los valores \"\" tienen valor 1"
   ]
  },
  {
   "cell_type": "code",
   "execution_count": 56,
   "metadata": {
    "tags": []
   },
   "outputs": [],
   "source": [
    "lista_años = []\n",
    "for palabra in df[\"¿Cuánto ha durado tu relación más larga?\"]:\n",
    "    if re.findall(r\"(\\d{1,2} )?(año|años)\\b\",palabra) == []:\n",
    "        lista_años.append(\"0\")\n",
    "    else:\n",
    "        lista_años.append(re.findall(r\"(\\d{1,2} )?(año|años)\\b\",palabra)[0][0])\n",
    "lista_años = [palabra.strip() for palabra in lista_años ]\n",
    "lista_años = [\"1\" if palabra == \"\" else palabra for palabra in lista_años]"
   ]
  },
  {
   "cell_type": "markdown",
   "metadata": {},
   "source": [
    "Implementar el mismo algoritmo pero con los meses. Existe un registro que por error \"2 meses 6 meses\" fueron proporcionados como respuesta. Por simplicidad, este se asumirá como un registro \"2 meses\""
   ]
  },
  {
   "cell_type": "code",
   "execution_count": 57,
   "metadata": {
    "tags": []
   },
   "outputs": [],
   "source": [
    "lista_tuplas_meses =[coin for coin in df[\"¿Cuánto ha durado tu relación más larga?\"].str.findall(r\"([\\d]{1,2} )?(mes|meses)\\b\")]"
   ]
  },
  {
   "cell_type": "code",
   "execution_count": 58,
   "metadata": {
    "tags": []
   },
   "outputs": [],
   "source": [
    "lista_meses = []\n",
    "for palabra in df[\"¿Cuánto ha durado tu relación más larga?\"]:\n",
    "    if re.findall(r\"([\\d]{1,2} )?(mes|meses)\\b\",palabra) == []:\n",
    "        lista_meses.append(\"0\")\n",
    "    else:\n",
    "        lista_meses.append(re.findall(r\"([\\d]{1,2} )?(mes|meses)\\b\",palabra)[0][0])\n",
    "lista_meses = [palabra.strip() for palabra in lista_meses]\n",
    "lista_meses = [\"1\" if palabra == \"\" else palabra for palabra in lista_meses]"
   ]
  },
  {
   "cell_type": "markdown",
   "metadata": {},
   "source": [
    "Así es como se verían los datos (DataFrame de muestra)"
   ]
  },
  {
   "cell_type": "code",
   "execution_count": 59,
   "metadata": {
    "tags": []
   },
   "outputs": [
    {
     "data": {
      "text/html": [
       "<div>\n",
       "<style scoped>\n",
       "    .dataframe tbody tr th:only-of-type {\n",
       "        vertical-align: middle;\n",
       "    }\n",
       "\n",
       "    .dataframe tbody tr th {\n",
       "        vertical-align: top;\n",
       "    }\n",
       "\n",
       "    .dataframe thead th {\n",
       "        text-align: right;\n",
       "    }\n",
       "</style>\n",
       "<table border=\"1\" class=\"dataframe\">\n",
       "  <thead>\n",
       "    <tr style=\"text-align: right;\">\n",
       "      <th></th>\n",
       "      <th>años_tuplas</th>\n",
       "      <th>años</th>\n",
       "      <th>meses_tuplas</th>\n",
       "      <th>meses</th>\n",
       "    </tr>\n",
       "  </thead>\n",
       "  <tbody>\n",
       "    <tr>\n",
       "      <th>151</th>\n",
       "      <td>[(2 , años)]</td>\n",
       "      <td>2</td>\n",
       "      <td>[]</td>\n",
       "      <td>0</td>\n",
       "    </tr>\n",
       "    <tr>\n",
       "      <th>152</th>\n",
       "      <td>[(3 , años)]</td>\n",
       "      <td>3</td>\n",
       "      <td>[(6 , meses)]</td>\n",
       "      <td>6</td>\n",
       "    </tr>\n",
       "    <tr>\n",
       "      <th>153</th>\n",
       "      <td>[(4 , años)]</td>\n",
       "      <td>4</td>\n",
       "      <td>[]</td>\n",
       "      <td>0</td>\n",
       "    </tr>\n",
       "    <tr>\n",
       "      <th>154</th>\n",
       "      <td>[(1 , año)]</td>\n",
       "      <td>1</td>\n",
       "      <td>[]</td>\n",
       "      <td>0</td>\n",
       "    </tr>\n",
       "    <tr>\n",
       "      <th>155</th>\n",
       "      <td>[(3 , años)]</td>\n",
       "      <td>3</td>\n",
       "      <td>[]</td>\n",
       "      <td>0</td>\n",
       "    </tr>\n",
       "    <tr>\n",
       "      <th>156</th>\n",
       "      <td>[]</td>\n",
       "      <td>0</td>\n",
       "      <td>[(6 , meses)]</td>\n",
       "      <td>6</td>\n",
       "    </tr>\n",
       "    <tr>\n",
       "      <th>157</th>\n",
       "      <td>[]</td>\n",
       "      <td>0</td>\n",
       "      <td>[(4 , meses)]</td>\n",
       "      <td>4</td>\n",
       "    </tr>\n",
       "    <tr>\n",
       "      <th>158</th>\n",
       "      <td>[(3 , años)]</td>\n",
       "      <td>3</td>\n",
       "      <td>[]</td>\n",
       "      <td>0</td>\n",
       "    </tr>\n",
       "    <tr>\n",
       "      <th>159</th>\n",
       "      <td>[(2 , años)]</td>\n",
       "      <td>2</td>\n",
       "      <td>[(6 , meses)]</td>\n",
       "      <td>6</td>\n",
       "    </tr>\n",
       "    <tr>\n",
       "      <th>160</th>\n",
       "      <td>[]</td>\n",
       "      <td>0</td>\n",
       "      <td>[]</td>\n",
       "      <td>0</td>\n",
       "    </tr>\n",
       "  </tbody>\n",
       "</table>\n",
       "</div>"
      ],
      "text/plain": [
       "      años_tuplas años   meses_tuplas meses\n",
       "151  [(2 , años)]    2             []     0\n",
       "152  [(3 , años)]    3  [(6 , meses)]     6\n",
       "153  [(4 , años)]    4             []     0\n",
       "154   [(1 , año)]    1             []     0\n",
       "155  [(3 , años)]    3             []     0\n",
       "156            []    0  [(6 , meses)]     6\n",
       "157            []    0  [(4 , meses)]     4\n",
       "158  [(3 , años)]    3             []     0\n",
       "159  [(2 , años)]    2  [(6 , meses)]     6\n",
       "160            []    0             []     0"
      ]
     },
     "execution_count": 59,
     "metadata": {},
     "output_type": "execute_result"
    }
   ],
   "source": [
    "provi_relacion = pd.DataFrame({\"años_tuplas\":lista_tuplas,\"años\":lista_años,\"meses_tuplas\":lista_tuplas_meses,\"meses\":lista_meses})\n",
    "provi_relacion.tail(10)"
   ]
  },
  {
   "cell_type": "markdown",
   "metadata": {},
   "source": [
    "Para trabajar de manera más sencilla las operaciones entre vectores, convertiré las listas a Series."
   ]
  },
  {
   "cell_type": "code",
   "execution_count": 60,
   "metadata": {
    "tags": []
   },
   "outputs": [
    {
     "name": "stderr",
     "output_type": "stream",
     "text": [
      "C:\\Users\\actda\\anaconda3\\lib\\site-packages\\numpy\\core\\numeric.py:2327: FutureWarning: elementwise comparison failed; returning scalar instead, but in the future will perform elementwise comparison\n",
      "  return bool(asarray(a1 == a2).all())\n"
     ]
    },
    {
     "data": {
      "text/html": [
       "<div>\n",
       "<style scoped>\n",
       "    .dataframe tbody tr th:only-of-type {\n",
       "        vertical-align: middle;\n",
       "    }\n",
       "\n",
       "    .dataframe tbody tr th {\n",
       "        vertical-align: top;\n",
       "    }\n",
       "\n",
       "    .dataframe thead th {\n",
       "        text-align: right;\n",
       "    }\n",
       "</style>\n",
       "<table border=\"1\" class=\"dataframe\">\n",
       "  <thead>\n",
       "    <tr style=\"text-align: right;\">\n",
       "      <th></th>\n",
       "      <th>Sexo</th>\n",
       "      <th>Edad</th>\n",
       "      <th>País</th>\n",
       "      <th>Ocupación</th>\n",
       "      <th>Orientación Sexual</th>\n",
       "      <th>¿Eres segura/seguro de ti mismo?</th>\n",
       "      <th>¿Te sientes segura/seguro estando sola/solo?</th>\n",
       "      <th>¿Dependes de otras personas para animarte a realizar nuevas actividades?</th>\n",
       "      <th>¿Necesitas saber que hay gente que respalda tu opinión para poder expresarla?</th>\n",
       "      <th>¿Temes por \"terminar solo\"?</th>\n",
       "      <th>...</th>\n",
       "      <th>¿Cuáles fueron las principales razónes por las que fuiste infiel?</th>\n",
       "      <th>En promedio, ¿Cuánto dinero le dedicas/dedicabas a tu pareja al mes?</th>\n",
       "      <th>En promedio, ¿Cuántas horas a la semana pasas/pasabas con tu pareja?</th>\n",
       "      <th>¿Cuánto ha durado tu relación más larga?</th>\n",
       "      <th>¿Consideras que tu pareja te satisface/satisfizo en todos los ámbitos?</th>\n",
       "      <th>¿Tienes relaciones sexuales con personas que no conoces frecuentemente?</th>\n",
       "      <th>Tu pareja te amenaza con dejarte porque no quieres mantener relaciones sexuales con ella/él, tú...</th>\n",
       "      <th>¿Consideras la posibilidad de tener hijos?</th>\n",
       "      <th>¿Por qué te gustaría/no te gustaría tener hijos?</th>\n",
       "      <th>¿Cuántos hijos tienes/te gustaría tener?</th>\n",
       "    </tr>\n",
       "  </thead>\n",
       "  <tbody>\n",
       "    <tr>\n",
       "      <th>0</th>\n",
       "      <td>F</td>\n",
       "      <td>21</td>\n",
       "      <td>méxico</td>\n",
       "      <td>estudiante</td>\n",
       "      <td>heterosexual</td>\n",
       "      <td>0</td>\n",
       "      <td>1</td>\n",
       "      <td>0</td>\n",
       "      <td>0</td>\n",
       "      <td>0</td>\n",
       "      <td>...</td>\n",
       "      <td>no he sido infiel.</td>\n",
       "      <td>800.0</td>\n",
       "      <td>8.0</td>\n",
       "      <td>24</td>\n",
       "      <td>0</td>\n",
       "      <td>0</td>\n",
       "      <td>te niegas y la/lo dejas.</td>\n",
       "      <td>tal vez</td>\n",
       "      <td>NaN</td>\n",
       "      <td>2</td>\n",
       "    </tr>\n",
       "    <tr>\n",
       "      <th>1</th>\n",
       "      <td>M</td>\n",
       "      <td>22</td>\n",
       "      <td>méxico</td>\n",
       "      <td>programador</td>\n",
       "      <td>heterosexual</td>\n",
       "      <td>1</td>\n",
       "      <td>1</td>\n",
       "      <td>0</td>\n",
       "      <td>0</td>\n",
       "      <td>0</td>\n",
       "      <td>...</td>\n",
       "      <td>no he sido infiel.</td>\n",
       "      <td>2000.0</td>\n",
       "      <td>20.0</td>\n",
       "      <td>7</td>\n",
       "      <td>0</td>\n",
       "      <td>1</td>\n",
       "      <td>aceptas pero sabes que gradualmente eso te des...</td>\n",
       "      <td>1</td>\n",
       "      <td>me gusta la idea de tener una familia</td>\n",
       "      <td>3</td>\n",
       "    </tr>\n",
       "    <tr>\n",
       "      <th>2</th>\n",
       "      <td>M</td>\n",
       "      <td>19</td>\n",
       "      <td>méxico</td>\n",
       "      <td>estudiante</td>\n",
       "      <td>heterosexual</td>\n",
       "      <td>1</td>\n",
       "      <td>1</td>\n",
       "      <td>0</td>\n",
       "      <td>0</td>\n",
       "      <td>0</td>\n",
       "      <td>...</td>\n",
       "      <td>no he sido infiel.</td>\n",
       "      <td>1200.0</td>\n",
       "      <td>35.0</td>\n",
       "      <td>18</td>\n",
       "      <td>1</td>\n",
       "      <td>0</td>\n",
       "      <td>te niegas y la/lo dejas.</td>\n",
       "      <td>tal vez</td>\n",
       "      <td>en dado caso de que tenga una economía y famil...</td>\n",
       "      <td>2</td>\n",
       "    </tr>\n",
       "    <tr>\n",
       "      <th>3</th>\n",
       "      <td>M</td>\n",
       "      <td>21</td>\n",
       "      <td>méxico</td>\n",
       "      <td>trabajador</td>\n",
       "      <td>heterosexual</td>\n",
       "      <td>0</td>\n",
       "      <td>0</td>\n",
       "      <td>1</td>\n",
       "      <td>0</td>\n",
       "      <td>1</td>\n",
       "      <td>...</td>\n",
       "      <td>despecho</td>\n",
       "      <td>2000.0</td>\n",
       "      <td>35.0</td>\n",
       "      <td>10</td>\n",
       "      <td>1</td>\n",
       "      <td>0</td>\n",
       "      <td>te niegas y la/lo dejas.</td>\n",
       "      <td>1</td>\n",
       "      <td>educar a alguien de bien</td>\n",
       "      <td>2</td>\n",
       "    </tr>\n",
       "    <tr>\n",
       "      <th>4</th>\n",
       "      <td>F</td>\n",
       "      <td>23</td>\n",
       "      <td>méxico</td>\n",
       "      <td>empleado</td>\n",
       "      <td>heterosexual</td>\n",
       "      <td>0</td>\n",
       "      <td>1</td>\n",
       "      <td>0</td>\n",
       "      <td>1</td>\n",
       "      <td>1</td>\n",
       "      <td>...</td>\n",
       "      <td>me aburría</td>\n",
       "      <td>600.0</td>\n",
       "      <td>12.0</td>\n",
       "      <td>18</td>\n",
       "      <td>1</td>\n",
       "      <td>0</td>\n",
       "      <td>te niegas y la/lo dejas.</td>\n",
       "      <td>1</td>\n",
       "      <td>me gustaría experimentar la sensación de ser m...</td>\n",
       "      <td>2</td>\n",
       "    </tr>\n",
       "  </tbody>\n",
       "</table>\n",
       "<p>5 rows × 41 columns</p>\n",
       "</div>"
      ],
      "text/plain": [
       "  Sexo  Edad    País    Ocupación Orientación Sexual  \\\n",
       "0    F    21  méxico   estudiante       heterosexual   \n",
       "1    M    22  méxico  programador       heterosexual   \n",
       "2    M    19  méxico   estudiante       heterosexual   \n",
       "3    M    21  méxico   trabajador       heterosexual   \n",
       "4    F    23  méxico    empleado        heterosexual   \n",
       "\n",
       "   ¿Eres segura/seguro de ti mismo?  \\\n",
       "0                                 0   \n",
       "1                                 1   \n",
       "2                                 1   \n",
       "3                                 0   \n",
       "4                                 0   \n",
       "\n",
       "   ¿Te sientes segura/seguro estando sola/solo?   \\\n",
       "0                                              1   \n",
       "1                                              1   \n",
       "2                                              1   \n",
       "3                                              0   \n",
       "4                                              1   \n",
       "\n",
       "   ¿Dependes de otras personas para animarte a realizar nuevas actividades?  \\\n",
       "0                                                  0                          \n",
       "1                                                  0                          \n",
       "2                                                  0                          \n",
       "3                                                  1                          \n",
       "4                                                  0                          \n",
       "\n",
       "   ¿Necesitas saber que hay gente que respalda tu opinión para poder expresarla?  \\\n",
       "0                                                  0                               \n",
       "1                                                  0                               \n",
       "2                                                  0                               \n",
       "3                                                  0                               \n",
       "4                                                  1                               \n",
       "\n",
       "   ¿Temes por \"terminar solo\"?   ...  \\\n",
       "0                             0  ...   \n",
       "1                             0  ...   \n",
       "2                             0  ...   \n",
       "3                             1  ...   \n",
       "4                             1  ...   \n",
       "\n",
       "  ¿Cuáles fueron las principales razónes por las que fuiste infiel?  \\\n",
       "0                                 no he sido infiel.                  \n",
       "1                                 no he sido infiel.                  \n",
       "2                                 no he sido infiel.                  \n",
       "3                                           despecho                  \n",
       "4                                        me aburría                   \n",
       "\n",
       "   En promedio, ¿Cuánto dinero le dedicas/dedicabas a tu pareja al mes?   \\\n",
       "0                                              800.0                       \n",
       "1                                             2000.0                       \n",
       "2                                             1200.0                       \n",
       "3                                             2000.0                       \n",
       "4                                              600.0                       \n",
       "\n",
       "   En promedio, ¿Cuántas horas a la semana pasas/pasabas con tu pareja?  \\\n",
       "0                                                8.0                      \n",
       "1                                               20.0                      \n",
       "2                                               35.0                      \n",
       "3                                               35.0                      \n",
       "4                                               12.0                      \n",
       "\n",
       "   ¿Cuánto ha durado tu relación más larga?  \\\n",
       "0                                        24   \n",
       "1                                         7   \n",
       "2                                        18   \n",
       "3                                        10   \n",
       "4                                        18   \n",
       "\n",
       "   ¿Consideras que tu pareja te satisface/satisfizo en todos los ámbitos?  \\\n",
       "0                                                  0                        \n",
       "1                                                  0                        \n",
       "2                                                  1                        \n",
       "3                                                  1                        \n",
       "4                                                  1                        \n",
       "\n",
       "   ¿Tienes relaciones sexuales con personas que no conoces frecuentemente?  \\\n",
       "0                                                  0                         \n",
       "1                                                  1                         \n",
       "2                                                  0                         \n",
       "3                                                  0                         \n",
       "4                                                  0                         \n",
       "\n",
       "   Tu pareja te amenaza con dejarte porque no quieres mantener relaciones sexuales con ella/él, tú...  \\\n",
       "0                           te niegas y la/lo dejas.                                                    \n",
       "1  aceptas pero sabes que gradualmente eso te des...                                                    \n",
       "2                           te niegas y la/lo dejas.                                                    \n",
       "3                           te niegas y la/lo dejas.                                                    \n",
       "4                           te niegas y la/lo dejas.                                                    \n",
       "\n",
       "   ¿Consideras la posibilidad de tener hijos?  \\\n",
       "0                                     tal vez   \n",
       "1                                           1   \n",
       "2                                     tal vez   \n",
       "3                                           1   \n",
       "4                                           1   \n",
       "\n",
       "    ¿Por qué te gustaría/no te gustaría tener hijos?  \\\n",
       "0                                                NaN   \n",
       "1              me gusta la idea de tener una familia   \n",
       "2  en dado caso de que tenga una economía y famil...   \n",
       "3                           educar a alguien de bien   \n",
       "4  me gustaría experimentar la sensación de ser m...   \n",
       "\n",
       "   ¿Cuántos hijos tienes/te gustaría tener?  \n",
       "0                                         2  \n",
       "1                                         3  \n",
       "2                                         2  \n",
       "3                                         2  \n",
       "4                                         2  \n",
       "\n",
       "[5 rows x 41 columns]"
      ]
     },
     "execution_count": 60,
     "metadata": {},
     "output_type": "execute_result"
    }
   ],
   "source": [
    "años_array = pd.Series(lista_años,dtype = \"int64\")\n",
    "meses_array = pd.Series(lista_meses,dtype = \"int64\")\n",
    "FINAL_relaciones = años_array * 12 + meses_array\n",
    "df[\"¿Cuánto ha durado tu relación más larga?\"] = FINAL_relaciones.astype(\"int64\")\n",
    "df.head(5)"
   ]
  },
  {
   "cell_type": "markdown",
   "metadata": {},
   "source": [
    "---"
   ]
  },
  {
   "cell_type": "markdown",
   "metadata": {},
   "source": [
    "¿Consideras la posibilidad de tener hijos?\n",
    "---\n"
   ]
  },
  {
   "cell_type": "markdown",
   "metadata": {},
   "source": [
    "Esta columna contiene 3 valores: <br>\n",
    "- 1: Sí\n",
    "- 0: No\n",
    "- 2: Tal vez\n",
    "\n",
    "El valor \"Tal vez\" tiene que ser sustituido por el valor 2 para posteriormente poder trabajar con él."
   ]
  },
  {
   "cell_type": "code",
   "execution_count": 61,
   "metadata": {},
   "outputs": [],
   "source": [
    "df[\"¿Consideras la posibilidad de tener hijos?\"].mask(df[\"¿Consideras la posibilidad de tener hijos?\"] == \"tal vez\",2, inplace = True)"
   ]
  },
  {
   "cell_type": "markdown",
   "metadata": {},
   "source": [
    "¿Te han perdonado alguna infidelidad?\n",
    "---"
   ]
  },
  {
   "cell_type": "markdown",
   "metadata": {},
   "source": [
    "Esta columna contiene 3 valores: <br>\n",
    "- 1: Sí\n",
    "- 0: No\n",
    "- 2: no he sido infiel\n",
    "\n",
    "El valor \"no he sido infiel\" tiene que ser sustituido por el valor 2 para posteriormente poder trabajar con él."
   ]
  },
  {
   "cell_type": "code",
   "execution_count": 62,
   "metadata": {},
   "outputs": [],
   "source": [
    "df[\"¿Te han perdonado alguna infidelidad?\"].mask(df[\"¿Te han perdonado alguna infidelidad?\"] == \"no he sido infiel.\",2, inplace = True)"
   ]
  },
  {
   "cell_type": "markdown",
   "metadata": {},
   "source": [
    "¿Has perdonado alguna infidelidad?\n",
    "---"
   ]
  },
  {
   "cell_type": "markdown",
   "metadata": {},
   "source": [
    "Esta columna contiene 3 valores: <br>\n",
    "- 1: Sí\n",
    "- 0: No\n",
    "- 2: no me han sido infiel.\n",
    "\n",
    "El valor \"no me han sido infiel\" tiene que ser sustituido por el valor 2 para posteriormente poder trabajar con él."
   ]
  },
  {
   "cell_type": "code",
   "execution_count": 63,
   "metadata": {},
   "outputs": [],
   "source": [
    "df[\"¿Has perdonado alguna infidelidad?\"].mask(df[\"¿Has perdonado alguna infidelidad?\"] == \"no me han sido infiel.\",2, inplace = True)"
   ]
  },
  {
   "cell_type": "markdown",
   "metadata": {},
   "source": [
    "Antes de haber sido infiel, ¿a ti te fueron infiel?\n",
    "---"
   ]
  },
  {
   "cell_type": "markdown",
   "metadata": {},
   "source": [
    "Esta columna contiene 3 valores: <br>\n",
    "- 1: Sí\n",
    "- 0: No\n",
    "- 2: no he sido infiel.\n",
    "- 3: me han sido infiel y después de ello yo no he sido infiel.\n",
    "\n",
    "El valor \"no me han sido infiel\" tiene que ser sustituido por el valor 2 para posteriormente poder trabajar con él."
   ]
  },
  {
   "cell_type": "code",
   "execution_count": 64,
   "metadata": {},
   "outputs": [],
   "source": [
    "df[\"Antes de haber sido infiel, ¿a ti te fueron infiel?\"].mask(df[\"Antes de haber sido infiel, ¿a ti te fueron infiel?\"] == \"no he sido infiel.\",2, inplace = True)\n",
    "df[\"Antes de haber sido infiel, ¿a ti te fueron infiel?\"].mask(df[\"Antes de haber sido infiel, ¿a ti te fueron infiel?\"] == \"me han sido infiel y depués de ello yo no he sido infiel.\",3, inplace = True)"
   ]
  },
  {
   "cell_type": "markdown",
   "metadata": {},
   "source": [
    "Tu pareja te amenaza con dejarte porque no quieres mantener relaciones sexuales con ella/él, tú...\n",
    "---"
   ]
  },
  {
   "cell_type": "markdown",
   "metadata": {},
   "source": [
    "Esta columna contiene 4 valores: <br>\n",
    "- 0: te niegas y la/lo dejas.\n",
    "- 1: aceptas pero sabes que gradualmente eso te desgastará y terminarás dejandola/dejandolo.\n",
    "- 2: te niegas pero tratas de convencerla/convencerlo de que la amas/lo amas.\n",
    "- 3: aceptas por miedo a que te deje.\n"
   ]
  },
  {
   "cell_type": "code",
   "execution_count": 65,
   "metadata": {},
   "outputs": [],
   "source": [
    "df[\"Tu pareja te amenaza con dejarte porque no quieres mantener relaciones sexuales con ella/él, tú...\"].mask(df[\"Tu pareja te amenaza con dejarte porque no quieres mantener relaciones sexuales con ella/él, tú...\"] == \"te niegas y la/lo dejas.\",0, inplace = True)\n",
    "df[\"Tu pareja te amenaza con dejarte porque no quieres mantener relaciones sexuales con ella/él, tú...\"].mask(df[\"Tu pareja te amenaza con dejarte porque no quieres mantener relaciones sexuales con ella/él, tú...\"] == \"aceptas pero sabes que gradualmente eso te desgastará y terminarás dejandola/dejandolo.\",1, inplace = True)\n",
    "df[\"Tu pareja te amenaza con dejarte porque no quieres mantener relaciones sexuales con ella/él, tú...\"].mask(df[\"Tu pareja te amenaza con dejarte porque no quieres mantener relaciones sexuales con ella/él, tú...\"] == \"te niegas pero tratas de convencerla/convenserlo de que la amas/lo amas.\",2, inplace = True)\n",
    "df[\"Tu pareja te amenaza con dejarte porque no quieres mantener relaciones sexuales con ella/él, tú...\"].mask(df[\"Tu pareja te amenaza con dejarte porque no quieres mantener relaciones sexuales con ella/él, tú...\"] == \"te niegas pero tratas de convencerla/convencerlo de que la amas/lo amas.\",2, inplace = True)\n",
    "df[\"Tu pareja te amenaza con dejarte porque no quieres mantener relaciones sexuales con ella/él, tú...\"].mask(df[\"Tu pareja te amenaza con dejarte porque no quieres mantener relaciones sexuales con ella/él, tú...\"] == \"aceptas por miedo a que te deje.\",3, inplace = True)"
   ]
  },
  {
   "cell_type": "markdown",
   "metadata": {},
   "source": [
    "Existen valores Nan, estos deberán ser sustituidos por la moda. Como puede verse, la moda es 0."
   ]
  },
  {
   "cell_type": "code",
   "execution_count": 66,
   "metadata": {},
   "outputs": [
    {
     "data": {
      "text/plain": [
       "0    94\n",
       "2    37\n",
       "1    19\n",
       "3     4\n",
       "Name: Tu pareja te amenaza con dejarte porque no quieres mantener relaciones sexuales con ella/él, tú..., dtype: int64"
      ]
     },
     "execution_count": 66,
     "metadata": {},
     "output_type": "execute_result"
    }
   ],
   "source": [
    "df[\"Tu pareja te amenaza con dejarte porque no quieres mantener relaciones sexuales con ella/él, tú...\"].value_counts()"
   ]
  },
  {
   "cell_type": "code",
   "execution_count": 67,
   "metadata": {
    "tags": []
   },
   "outputs": [],
   "source": [
    "df[\"Tu pareja te amenaza con dejarte porque no quieres mantener relaciones sexuales con ella/él, tú...\"].fillna(0,inplace = True)"
   ]
  },
  {
   "cell_type": "markdown",
   "metadata": {},
   "source": [
    "¿Cuántos hijos tienes/te gustaría tener?\n",
    "---"
   ]
  },
  {
   "cell_type": "code",
   "execution_count": 68,
   "metadata": {},
   "outputs": [
    {
     "data": {
      "text/plain": [
       "array(['2', '3', '1', '2-4', 'ninguno', '0', 'tengo 2',\n",
       "       'me gustaría tener 2-3 ', '2 ', '1 ', '0 ', 'ninguno ', '2-3', '5',\n",
       "       'máximo 3', 'ningunx', 'si lo decidiera, dos.',\n",
       "       'no quisiera tener. ', '1 o 2', 'no tengo hijos', '3 ',\n",
       "       'una pregunta difícil, considero debe ser planteada en un par de años cuando decida tener hijos y consultarlo con mi pareja pero si fuera por mí tendría 1 o dos por si el primero es niña jaja no es cierto quiero tener al menos 2 hijos.',\n",
       "       'si llego a tener me gustaría que solo fuera uno',\n",
       "       '0 o 1. si mi(s) pareja(s) deseara(n) más, podríamos dialogar al respecto y apoyaría con pleno deseo y acuerdo hasta 2, pero no es mi ideal',\n",
       "       '20', '4', '1, tal vez 2 ', 'dos o tres ', ' no',\n",
       "       'si llego a tener, uno o dos. si yo llegara a faltar, no quisiera que se quedaran sin alguien más en el mundo',\n",
       "       '1-2', '1/2', 'hasta 4', '0-1', 'ninguno, jaja', '2 máx.',\n",
       "       '4 máximo, incluyendo al que ya tengo.', '2 hijos',\n",
       "       'si tuviera hijos 3',\n",
       "       'quizá si algún día sale por error si tendría 1 y me haría cargo de él o ella',\n",
       "       'no lo sé.', 'me gustaría tener 3',\n",
       "       'preferiría tener gatos y talvez un perro'], dtype=object)"
      ]
     },
     "execution_count": 68,
     "metadata": {},
     "output_type": "execute_result"
    }
   ],
   "source": [
    "df[\"¿Cuántos hijos tienes/te gustaría tener?\"].unique()"
   ]
  },
  {
   "cell_type": "markdown",
   "metadata": {},
   "source": [
    "Existen algunas complicaciones para extraer los datos numéricos:<br>\n",
    "- Existen valores numéricos expresados en su forma literária (dos, tres, uno) Estos se cambiaran a su forma numérica.\n",
    "- Existen intervalos de hijos deseados. Considero que obtener la cota máxima de cada intervalo es la mejor opción para trabajar con este tipo de información. \n",
    "- La negación a tener hijos equivale a 0 hijos."
   ]
  },
  {
   "cell_type": "code",
   "execution_count": 69,
   "metadata": {
    "tags": []
   },
   "outputs": [],
   "source": [
    "df[\"¿Cuántos hijos tienes/te gustaría tener?\"] = df[\"¿Cuántos hijos tienes/te gustaría tener?\"].str.replace(\"dos\",\"2\").str.replace(\"tres\",\"3\").str.replace(\"uno\",\"1\").str.replace(\"ning1\",\"0\")"
   ]
  },
  {
   "cell_type": "markdown",
   "metadata": {},
   "source": [
    "Al hacer la sustitución de \"uno\" por \"1\", la palabra \"ninguno\" fue sustituida por error a \"ning1\". Es por eso que se agregó el replace con el respectivo parámetro."
   ]
  },
  {
   "cell_type": "code",
   "execution_count": 70,
   "metadata": {
    "tags": []
   },
   "outputs": [],
   "source": [
    "numero_hijos = [x for x in df[\"¿Cuántos hijos tienes/te gustaría tener?\"].str.findall(\"\\d\")]\n",
    "for x in numero_hijos:\n",
    "    if x == []:\n",
    "        x.append(\"0\")\n",
    "numero_hijos_FINAL = [int(max(x)) for x in numero_hijos]\n",
    "df[\"¿Cuántos hijos tienes/te gustaría tener?\"] = numero_hijos_FINAL"
   ]
  },
  {
   "cell_type": "markdown",
   "metadata": {},
   "source": [
    "De las siguientes características, ¿con cuáles te identificas?\n",
    "---"
   ]
  },
  {
   "cell_type": "code",
   "execution_count": 71,
   "metadata": {},
   "outputs": [
    {
     "data": {
      "text/plain": [
       "array(['baja autoestima.;estado de ánimo disfórico.;lugar prioritario de la relación.;autoanulación.;necesidad de agradar.;deseos de exclusividad.',\n",
       "       'déficit de habilidades sociales', 'deseos de exclusividad.',\n",
       "       'miedo a la soledad.;necesidad de agradar.;deseos de exclusividad.',\n",
       "       'baja autoestima.'], dtype=object)"
      ]
     },
     "execution_count": 71,
     "metadata": {},
     "output_type": "execute_result"
    }
   ],
   "source": [
    "df[\"De las siguientes características, ¿con cuáles te identificas? \"].unique()[:5]"
   ]
  },
  {
   "cell_type": "markdown",
   "metadata": {},
   "source": [
    "- Se eliminarán los puntos para no cargar con carácteres innecesarios.\n",
    "- Se separaran las caracteríticas por ;"
   ]
  },
  {
   "cell_type": "markdown",
   "metadata": {},
   "source": [
    "Lista de características."
   ]
  },
  {
   "cell_type": "code",
   "execution_count": 72,
   "metadata": {},
   "outputs": [],
   "source": [
    "caracteristicas = [\"baja autoestima\",\"miedo a la soledad\",\"estado de ánimo disfórico\",\"lugar prioritario de la relación\",\n",
    "                   \"necesidad de acceso continuo al compañero\",\"autoanulación\",\"necesidad de agradar\",\"deseos de exclusividad\",\n",
    "                   \"déficit de habilidades sociales\",\"ocupar un papel inferior en la relación de pareja\"]"
   ]
  },
  {
   "cell_type": "code",
   "execution_count": 73,
   "metadata": {},
   "outputs": [],
   "source": [
    "for carac in caracteristicas:\n",
    "    df[carac] = np.where(df[\"De las siguientes características, ¿con cuáles te identificas? \"].str.contains(carac),1,0)\n",
    "df.drop(columns = \"De las siguientes características, ¿con cuáles te identificas? \",inplace = True)"
   ]
  },
  {
   "cell_type": "markdown",
   "metadata": {},
   "source": [
    "---"
   ]
  },
  {
   "cell_type": "markdown",
   "metadata": {},
   "source": [
    "DATA FRAME TERMINADO\n",
    "---"
   ]
  },
  {
   "cell_type": "code",
   "execution_count": 74,
   "metadata": {},
   "outputs": [
    {
     "data": {
      "text/html": [
       "<div>\n",
       "<style scoped>\n",
       "    .dataframe tbody tr th:only-of-type {\n",
       "        vertical-align: middle;\n",
       "    }\n",
       "\n",
       "    .dataframe tbody tr th {\n",
       "        vertical-align: top;\n",
       "    }\n",
       "\n",
       "    .dataframe thead th {\n",
       "        text-align: right;\n",
       "    }\n",
       "</style>\n",
       "<table border=\"1\" class=\"dataframe\">\n",
       "  <thead>\n",
       "    <tr style=\"text-align: right;\">\n",
       "      <th></th>\n",
       "      <th>Sexo</th>\n",
       "      <th>Edad</th>\n",
       "      <th>País</th>\n",
       "      <th>Ocupación</th>\n",
       "      <th>Orientación Sexual</th>\n",
       "      <th>¿Eres segura/seguro de ti mismo?</th>\n",
       "      <th>¿Te sientes segura/seguro estando sola/solo?</th>\n",
       "      <th>¿Dependes de otras personas para animarte a realizar nuevas actividades?</th>\n",
       "      <th>¿Necesitas saber que hay gente que respalda tu opinión para poder expresarla?</th>\n",
       "      <th>¿Temes por \"terminar solo\"?</th>\n",
       "      <th>...</th>\n",
       "      <th>baja autoestima</th>\n",
       "      <th>miedo a la soledad</th>\n",
       "      <th>estado de ánimo disfórico</th>\n",
       "      <th>lugar prioritario de la relación</th>\n",
       "      <th>necesidad de acceso continuo al compañero</th>\n",
       "      <th>autoanulación</th>\n",
       "      <th>necesidad de agradar</th>\n",
       "      <th>deseos de exclusividad</th>\n",
       "      <th>déficit de habilidades sociales</th>\n",
       "      <th>ocupar un papel inferior en la relación de pareja</th>\n",
       "    </tr>\n",
       "  </thead>\n",
       "  <tbody>\n",
       "    <tr>\n",
       "      <th>0</th>\n",
       "      <td>F</td>\n",
       "      <td>21</td>\n",
       "      <td>méxico</td>\n",
       "      <td>estudiante</td>\n",
       "      <td>heterosexual</td>\n",
       "      <td>0</td>\n",
       "      <td>1</td>\n",
       "      <td>0</td>\n",
       "      <td>0</td>\n",
       "      <td>0</td>\n",
       "      <td>...</td>\n",
       "      <td>1</td>\n",
       "      <td>0</td>\n",
       "      <td>1</td>\n",
       "      <td>1</td>\n",
       "      <td>0</td>\n",
       "      <td>1</td>\n",
       "      <td>1</td>\n",
       "      <td>1</td>\n",
       "      <td>0</td>\n",
       "      <td>0</td>\n",
       "    </tr>\n",
       "    <tr>\n",
       "      <th>1</th>\n",
       "      <td>M</td>\n",
       "      <td>22</td>\n",
       "      <td>méxico</td>\n",
       "      <td>programador</td>\n",
       "      <td>heterosexual</td>\n",
       "      <td>1</td>\n",
       "      <td>1</td>\n",
       "      <td>0</td>\n",
       "      <td>0</td>\n",
       "      <td>0</td>\n",
       "      <td>...</td>\n",
       "      <td>0</td>\n",
       "      <td>0</td>\n",
       "      <td>0</td>\n",
       "      <td>0</td>\n",
       "      <td>0</td>\n",
       "      <td>0</td>\n",
       "      <td>0</td>\n",
       "      <td>0</td>\n",
       "      <td>1</td>\n",
       "      <td>0</td>\n",
       "    </tr>\n",
       "    <tr>\n",
       "      <th>2</th>\n",
       "      <td>M</td>\n",
       "      <td>19</td>\n",
       "      <td>méxico</td>\n",
       "      <td>estudiante</td>\n",
       "      <td>heterosexual</td>\n",
       "      <td>1</td>\n",
       "      <td>1</td>\n",
       "      <td>0</td>\n",
       "      <td>0</td>\n",
       "      <td>0</td>\n",
       "      <td>...</td>\n",
       "      <td>0</td>\n",
       "      <td>0</td>\n",
       "      <td>0</td>\n",
       "      <td>0</td>\n",
       "      <td>0</td>\n",
       "      <td>0</td>\n",
       "      <td>0</td>\n",
       "      <td>1</td>\n",
       "      <td>0</td>\n",
       "      <td>0</td>\n",
       "    </tr>\n",
       "    <tr>\n",
       "      <th>3</th>\n",
       "      <td>M</td>\n",
       "      <td>21</td>\n",
       "      <td>méxico</td>\n",
       "      <td>trabajador</td>\n",
       "      <td>heterosexual</td>\n",
       "      <td>0</td>\n",
       "      <td>0</td>\n",
       "      <td>1</td>\n",
       "      <td>0</td>\n",
       "      <td>1</td>\n",
       "      <td>...</td>\n",
       "      <td>0</td>\n",
       "      <td>1</td>\n",
       "      <td>0</td>\n",
       "      <td>0</td>\n",
       "      <td>0</td>\n",
       "      <td>0</td>\n",
       "      <td>1</td>\n",
       "      <td>1</td>\n",
       "      <td>0</td>\n",
       "      <td>0</td>\n",
       "    </tr>\n",
       "    <tr>\n",
       "      <th>4</th>\n",
       "      <td>F</td>\n",
       "      <td>23</td>\n",
       "      <td>méxico</td>\n",
       "      <td>empleado</td>\n",
       "      <td>heterosexual</td>\n",
       "      <td>0</td>\n",
       "      <td>1</td>\n",
       "      <td>0</td>\n",
       "      <td>1</td>\n",
       "      <td>1</td>\n",
       "      <td>...</td>\n",
       "      <td>1</td>\n",
       "      <td>0</td>\n",
       "      <td>0</td>\n",
       "      <td>0</td>\n",
       "      <td>0</td>\n",
       "      <td>0</td>\n",
       "      <td>0</td>\n",
       "      <td>0</td>\n",
       "      <td>0</td>\n",
       "      <td>0</td>\n",
       "    </tr>\n",
       "  </tbody>\n",
       "</table>\n",
       "<p>5 rows × 50 columns</p>\n",
       "</div>"
      ],
      "text/plain": [
       "  Sexo  Edad    País    Ocupación Orientación Sexual  \\\n",
       "0    F    21  méxico   estudiante       heterosexual   \n",
       "1    M    22  méxico  programador       heterosexual   \n",
       "2    M    19  méxico   estudiante       heterosexual   \n",
       "3    M    21  méxico   trabajador       heterosexual   \n",
       "4    F    23  méxico    empleado        heterosexual   \n",
       "\n",
       "   ¿Eres segura/seguro de ti mismo?  \\\n",
       "0                                 0   \n",
       "1                                 1   \n",
       "2                                 1   \n",
       "3                                 0   \n",
       "4                                 0   \n",
       "\n",
       "   ¿Te sientes segura/seguro estando sola/solo?   \\\n",
       "0                                              1   \n",
       "1                                              1   \n",
       "2                                              1   \n",
       "3                                              0   \n",
       "4                                              1   \n",
       "\n",
       "   ¿Dependes de otras personas para animarte a realizar nuevas actividades?  \\\n",
       "0                                                  0                          \n",
       "1                                                  0                          \n",
       "2                                                  0                          \n",
       "3                                                  1                          \n",
       "4                                                  0                          \n",
       "\n",
       "   ¿Necesitas saber que hay gente que respalda tu opinión para poder expresarla?  \\\n",
       "0                                                  0                               \n",
       "1                                                  0                               \n",
       "2                                                  0                               \n",
       "3                                                  0                               \n",
       "4                                                  1                               \n",
       "\n",
       "   ¿Temes por \"terminar solo\"?   ...  baja autoestima  miedo a la soledad  \\\n",
       "0                             0  ...                1                   0   \n",
       "1                             0  ...                0                   0   \n",
       "2                             0  ...                0                   0   \n",
       "3                             1  ...                0                   1   \n",
       "4                             1  ...                1                   0   \n",
       "\n",
       "   estado de ánimo disfórico  lugar prioritario de la relación  \\\n",
       "0                          1                                 1   \n",
       "1                          0                                 0   \n",
       "2                          0                                 0   \n",
       "3                          0                                 0   \n",
       "4                          0                                 0   \n",
       "\n",
       "   necesidad de acceso continuo al compañero  autoanulación  \\\n",
       "0                                          0              1   \n",
       "1                                          0              0   \n",
       "2                                          0              0   \n",
       "3                                          0              0   \n",
       "4                                          0              0   \n",
       "\n",
       "   necesidad de agradar  deseos de exclusividad  \\\n",
       "0                     1                       1   \n",
       "1                     0                       0   \n",
       "2                     0                       1   \n",
       "3                     1                       1   \n",
       "4                     0                       0   \n",
       "\n",
       "   déficit de habilidades sociales  \\\n",
       "0                                0   \n",
       "1                                1   \n",
       "2                                0   \n",
       "3                                0   \n",
       "4                                0   \n",
       "\n",
       "   ocupar un papel inferior en la relación de pareja  \n",
       "0                                                  0  \n",
       "1                                                  0  \n",
       "2                                                  0  \n",
       "3                                                  0  \n",
       "4                                                  0  \n",
       "\n",
       "[5 rows x 50 columns]"
      ]
     },
     "execution_count": 74,
     "metadata": {},
     "output_type": "execute_result"
    }
   ],
   "source": [
    "df.head(5)"
   ]
  },
  {
   "cell_type": "code",
   "execution_count": 75,
   "metadata": {},
   "outputs": [
    {
     "data": {
      "text/plain": [
       "Sexo                                                                                                                    object\n",
       "Edad                                                                                                                     int64\n",
       "País                                                                                                                    object\n",
       "Ocupación                                                                                                               object\n",
       "Orientación Sexual                                                                                                      object\n",
       "¿Eres segura/seguro de ti mismo?                                                                                         int64\n",
       "¿Te sientes segura/seguro estando sola/solo?                                                                             int64\n",
       "¿Dependes de otras personas para animarte a realizar nuevas actividades?                                                 int64\n",
       "¿Necesitas saber que hay gente que respalda tu opinión para poder expresarla?                                            int64\n",
       "¿Temes por \"terminar solo\"?                                                                                              int64\n",
       "Te aburres fácilmente.                                                                                                   int64\n",
       "Te consideras una persona celosa.                                                                                        int64\n",
       "Te consideras una persona emocionalmente inestable.                                                                      int64\n",
       "Te consideras una persona ansiosa.                                                                                       int64\n",
       "Eres buena/bueno mintiendo                                                                                               int64\n",
       "Te gusta sentirte deseada / deseado.                                                                                     int64\n",
       " ¿Qué tanto estás dispuesto a soportar maltrato físico o psicológico con tal de que una persona se quede a tu lado?      int64\n",
       "Cuando estás en una relación, ¿Qué tan a menudo sientes de forma espontánea que la relación va a acabar?                 int64\n",
       "¿Actualmente tienes pareja?                                                                                              int64\n",
       "¿Alguna vez has regresado con una ex pareja?                                                                             int64\n",
       "¿Qué le dirías a tu ex pareja si la vieras de nuevo?                                                                    object\n",
       "¿Cómo sería tu pareja ideal?                                                                                            object\n",
       "¿Alguna vez has sido infiel?                                                                                             int64\n",
       "¿Por qué fuiste infiel?                                                                                                 object\n",
       "¿Alguna vez te han sido infiel?                                                                                          int64\n",
       "Antes de haber sido infiel, ¿a ti te fueron infiel?                                                                     object\n",
       "¿Has perdonado alguna infidelidad?                                                                                      object\n",
       "¿Te han perdonado alguna infidelidad?                                                                                   object\n",
       "¿Crees en la monogámia?                                                                                                  int64\n",
       "¿Cuántas parejas has tenido en toda tu vida?                                                                             int64\n",
       "¿Cuáles fueron las principales razónes por las que fuiste infiel?                                                       object\n",
       "En promedio, ¿Cuánto dinero le dedicas/dedicabas a tu pareja al mes?                                                   float64\n",
       "En promedio, ¿Cuántas horas a la semana pasas/pasabas con tu pareja?                                                   float64\n",
       "¿Cuánto ha durado tu relación más larga?                                                                                 int64\n",
       "¿Consideras que tu pareja te satisface/satisfizo en todos los ámbitos?                                                   int64\n",
       "¿Tienes relaciones sexuales con personas que no conoces frecuentemente?                                                  int64\n",
       "Tu pareja te amenaza con dejarte porque no quieres mantener relaciones sexuales con ella/él, tú...                       int64\n",
       "¿Consideras la posibilidad de tener hijos?                                                                              object\n",
       "¿Por qué te gustaría/no te gustaría tener hijos?                                                                        object\n",
       "¿Cuántos hijos tienes/te gustaría tener?                                                                                 int64\n",
       "baja autoestima                                                                                                          int32\n",
       "miedo a la soledad                                                                                                       int32\n",
       "estado de ánimo disfórico                                                                                                int32\n",
       "lugar prioritario de la relación                                                                                         int32\n",
       "necesidad de acceso continuo al compañero                                                                                int32\n",
       "autoanulación                                                                                                            int32\n",
       "necesidad de agradar                                                                                                     int32\n",
       "deseos de exclusividad                                                                                                   int32\n",
       "déficit de habilidades sociales                                                                                          int32\n",
       "ocupar un papel inferior en la relación de pareja                                                                        int32\n",
       "dtype: object"
      ]
     },
     "execution_count": 75,
     "metadata": {},
     "output_type": "execute_result"
    }
   ],
   "source": [
    "df.dtypes"
   ]
  },
  {
   "cell_type": "markdown",
   "metadata": {},
   "source": [
    "<h1><center>EXPLOTATORY DATA ANALYSIS</center></h1>"
   ]
  },
  {
   "cell_type": "markdown",
   "metadata": {},
   "source": [
    "En este proyecto se espera tener dos grendes resultados principales:<br>\n",
    "- Análsis de sentimientos.\n",
    "- Aplicar algorírmos de clasificación y de regresión.\n",
    "\n",
    "Para esto, dividiré primeramente la base de datos en 2 partes: La primera será unicamente utilizada para realizar el Análsis de sentimientos y la segunda será el resto de las columas.<be>\n",
    "    \n",
    "__df_sentimientos__: Este data frame contendrá todas las columnas destinadas a esta tarea. Las columnas a seleccionar son: <br>\n",
    "- Sexo\n",
    "- Edad\n",
    "- ¿Qué le dirías a tu ex pareja si la vieras de nuevo? \n",
    "- ¿Cómo sería tu pareja ideal?\n",
    "- ¿Por qué fuiste infiel?\n",
    "- ¿Cuáles fueron las principales razónes por las que fuiste infiel?\n",
    "- ¿Por qué te gustaría/no te gustaría tener hijos?\n",
    "\n",
    "__df_numericos__: Todos las columnas que restan.\n"
   ]
  },
  {
   "cell_type": "code",
   "execution_count": 76,
   "metadata": {},
   "outputs": [],
   "source": [
    "df_sentimientos = df[[\"Sexo\",\"Edad\",\"¿Qué le dirías a tu ex pareja si la vieras de nuevo?\",\"¿Cómo sería tu pareja ideal?\",\"¿Por qué fuiste infiel?\",\"¿Cuáles fueron las principales razónes por las que fuiste infiel?\",\"¿Por qué te gustaría/no te gustaría tener hijos?\"]]\n",
    "df_numericos = pd.concat([df[df.columns.difference(df_sentimientos.columns)],df[\"Sexo\"],df[\"Edad\"]],axis = 1)"
   ]
  },
  {
   "cell_type": "code",
   "execution_count": 77,
   "metadata": {},
   "outputs": [
    {
     "data": {
      "text/html": [
       "<div>\n",
       "<style scoped>\n",
       "    .dataframe tbody tr th:only-of-type {\n",
       "        vertical-align: middle;\n",
       "    }\n",
       "\n",
       "    .dataframe tbody tr th {\n",
       "        vertical-align: top;\n",
       "    }\n",
       "\n",
       "    .dataframe thead th {\n",
       "        text-align: right;\n",
       "    }\n",
       "</style>\n",
       "<table border=\"1\" class=\"dataframe\">\n",
       "  <thead>\n",
       "    <tr style=\"text-align: right;\">\n",
       "      <th></th>\n",
       "      <th>¿Qué tanto estás dispuesto a soportar maltrato físico o psicológico con tal de que una persona se quede a tu lado?</th>\n",
       "      <th>Antes de haber sido infiel, ¿a ti te fueron infiel?</th>\n",
       "      <th>Cuando estás en una relación, ¿Qué tan a menudo sientes de forma espontánea que la relación va a acabar?</th>\n",
       "      <th>En promedio, ¿Cuántas horas a la semana pasas/pasabas con tu pareja?</th>\n",
       "      <th>En promedio, ¿Cuánto dinero le dedicas/dedicabas a tu pareja al mes?</th>\n",
       "      <th>Eres buena/bueno mintiendo</th>\n",
       "      <th>Ocupación</th>\n",
       "      <th>Orientación Sexual</th>\n",
       "      <th>País</th>\n",
       "      <th>Te aburres fácilmente.</th>\n",
       "      <th>...</th>\n",
       "      <th>¿Dependes de otras personas para animarte a realizar nuevas actividades?</th>\n",
       "      <th>¿Eres segura/seguro de ti mismo?</th>\n",
       "      <th>¿Has perdonado alguna infidelidad?</th>\n",
       "      <th>¿Necesitas saber que hay gente que respalda tu opinión para poder expresarla?</th>\n",
       "      <th>¿Te han perdonado alguna infidelidad?</th>\n",
       "      <th>¿Te sientes segura/seguro estando sola/solo?</th>\n",
       "      <th>¿Temes por \"terminar solo\"?</th>\n",
       "      <th>¿Tienes relaciones sexuales con personas que no conoces frecuentemente?</th>\n",
       "      <th>Sexo</th>\n",
       "      <th>Edad</th>\n",
       "    </tr>\n",
       "  </thead>\n",
       "  <tbody>\n",
       "    <tr>\n",
       "      <th>0</th>\n",
       "      <td>3</td>\n",
       "      <td>3</td>\n",
       "      <td>4</td>\n",
       "      <td>8.0</td>\n",
       "      <td>800.0</td>\n",
       "      <td>2</td>\n",
       "      <td>estudiante</td>\n",
       "      <td>heterosexual</td>\n",
       "      <td>méxico</td>\n",
       "      <td>2</td>\n",
       "      <td>...</td>\n",
       "      <td>0</td>\n",
       "      <td>0</td>\n",
       "      <td>0</td>\n",
       "      <td>0</td>\n",
       "      <td>2</td>\n",
       "      <td>1</td>\n",
       "      <td>0</td>\n",
       "      <td>0</td>\n",
       "      <td>F</td>\n",
       "      <td>21</td>\n",
       "    </tr>\n",
       "    <tr>\n",
       "      <th>1</th>\n",
       "      <td>1</td>\n",
       "      <td>2</td>\n",
       "      <td>1</td>\n",
       "      <td>20.0</td>\n",
       "      <td>2000.0</td>\n",
       "      <td>5</td>\n",
       "      <td>programador</td>\n",
       "      <td>heterosexual</td>\n",
       "      <td>méxico</td>\n",
       "      <td>1</td>\n",
       "      <td>...</td>\n",
       "      <td>0</td>\n",
       "      <td>1</td>\n",
       "      <td>2</td>\n",
       "      <td>0</td>\n",
       "      <td>2</td>\n",
       "      <td>1</td>\n",
       "      <td>0</td>\n",
       "      <td>1</td>\n",
       "      <td>M</td>\n",
       "      <td>22</td>\n",
       "    </tr>\n",
       "    <tr>\n",
       "      <th>2</th>\n",
       "      <td>1</td>\n",
       "      <td>3</td>\n",
       "      <td>1</td>\n",
       "      <td>35.0</td>\n",
       "      <td>1200.0</td>\n",
       "      <td>5</td>\n",
       "      <td>estudiante</td>\n",
       "      <td>heterosexual</td>\n",
       "      <td>méxico</td>\n",
       "      <td>5</td>\n",
       "      <td>...</td>\n",
       "      <td>0</td>\n",
       "      <td>1</td>\n",
       "      <td>0</td>\n",
       "      <td>0</td>\n",
       "      <td>2</td>\n",
       "      <td>1</td>\n",
       "      <td>0</td>\n",
       "      <td>0</td>\n",
       "      <td>M</td>\n",
       "      <td>19</td>\n",
       "    </tr>\n",
       "    <tr>\n",
       "      <th>3</th>\n",
       "      <td>2</td>\n",
       "      <td>1</td>\n",
       "      <td>3</td>\n",
       "      <td>35.0</td>\n",
       "      <td>2000.0</td>\n",
       "      <td>5</td>\n",
       "      <td>trabajador</td>\n",
       "      <td>heterosexual</td>\n",
       "      <td>méxico</td>\n",
       "      <td>3</td>\n",
       "      <td>...</td>\n",
       "      <td>1</td>\n",
       "      <td>0</td>\n",
       "      <td>1</td>\n",
       "      <td>0</td>\n",
       "      <td>0</td>\n",
       "      <td>0</td>\n",
       "      <td>1</td>\n",
       "      <td>0</td>\n",
       "      <td>M</td>\n",
       "      <td>21</td>\n",
       "    </tr>\n",
       "    <tr>\n",
       "      <th>4</th>\n",
       "      <td>1</td>\n",
       "      <td>0</td>\n",
       "      <td>2</td>\n",
       "      <td>12.0</td>\n",
       "      <td>600.0</td>\n",
       "      <td>5</td>\n",
       "      <td>empleado</td>\n",
       "      <td>heterosexual</td>\n",
       "      <td>méxico</td>\n",
       "      <td>4</td>\n",
       "      <td>...</td>\n",
       "      <td>0</td>\n",
       "      <td>0</td>\n",
       "      <td>1</td>\n",
       "      <td>1</td>\n",
       "      <td>1</td>\n",
       "      <td>1</td>\n",
       "      <td>1</td>\n",
       "      <td>0</td>\n",
       "      <td>F</td>\n",
       "      <td>23</td>\n",
       "    </tr>\n",
       "    <tr>\n",
       "      <th>...</th>\n",
       "      <td>...</td>\n",
       "      <td>...</td>\n",
       "      <td>...</td>\n",
       "      <td>...</td>\n",
       "      <td>...</td>\n",
       "      <td>...</td>\n",
       "      <td>...</td>\n",
       "      <td>...</td>\n",
       "      <td>...</td>\n",
       "      <td>...</td>\n",
       "      <td>...</td>\n",
       "      <td>...</td>\n",
       "      <td>...</td>\n",
       "      <td>...</td>\n",
       "      <td>...</td>\n",
       "      <td>...</td>\n",
       "      <td>...</td>\n",
       "      <td>...</td>\n",
       "      <td>...</td>\n",
       "      <td>...</td>\n",
       "      <td>...</td>\n",
       "    </tr>\n",
       "    <tr>\n",
       "      <th>156</th>\n",
       "      <td>3</td>\n",
       "      <td>2</td>\n",
       "      <td>5</td>\n",
       "      <td>22.5</td>\n",
       "      <td>900.0</td>\n",
       "      <td>4</td>\n",
       "      <td>estudiante</td>\n",
       "      <td>heterosexual</td>\n",
       "      <td>méxico</td>\n",
       "      <td>5</td>\n",
       "      <td>...</td>\n",
       "      <td>0</td>\n",
       "      <td>0</td>\n",
       "      <td>0</td>\n",
       "      <td>1</td>\n",
       "      <td>2</td>\n",
       "      <td>1</td>\n",
       "      <td>0</td>\n",
       "      <td>0</td>\n",
       "      <td>M</td>\n",
       "      <td>20</td>\n",
       "    </tr>\n",
       "    <tr>\n",
       "      <th>157</th>\n",
       "      <td>2</td>\n",
       "      <td>1</td>\n",
       "      <td>3</td>\n",
       "      <td>12.0</td>\n",
       "      <td>600.0</td>\n",
       "      <td>3</td>\n",
       "      <td>estudiante</td>\n",
       "      <td>heterosexual</td>\n",
       "      <td>méxico</td>\n",
       "      <td>5</td>\n",
       "      <td>...</td>\n",
       "      <td>1</td>\n",
       "      <td>1</td>\n",
       "      <td>0</td>\n",
       "      <td>0</td>\n",
       "      <td>0</td>\n",
       "      <td>1</td>\n",
       "      <td>0</td>\n",
       "      <td>0</td>\n",
       "      <td>M</td>\n",
       "      <td>18</td>\n",
       "    </tr>\n",
       "    <tr>\n",
       "      <th>158</th>\n",
       "      <td>3</td>\n",
       "      <td>2</td>\n",
       "      <td>2</td>\n",
       "      <td>50.0</td>\n",
       "      <td>1500.0</td>\n",
       "      <td>3</td>\n",
       "      <td>enfermera</td>\n",
       "      <td>heterosexual</td>\n",
       "      <td>méxico</td>\n",
       "      <td>3</td>\n",
       "      <td>...</td>\n",
       "      <td>1</td>\n",
       "      <td>1</td>\n",
       "      <td>0</td>\n",
       "      <td>0</td>\n",
       "      <td>2</td>\n",
       "      <td>1</td>\n",
       "      <td>0</td>\n",
       "      <td>0</td>\n",
       "      <td>F</td>\n",
       "      <td>26</td>\n",
       "    </tr>\n",
       "    <tr>\n",
       "      <th>159</th>\n",
       "      <td>1</td>\n",
       "      <td>0</td>\n",
       "      <td>2</td>\n",
       "      <td>12.0</td>\n",
       "      <td>800.0</td>\n",
       "      <td>4</td>\n",
       "      <td>estudiante</td>\n",
       "      <td>bisexual</td>\n",
       "      <td>méxico</td>\n",
       "      <td>4</td>\n",
       "      <td>...</td>\n",
       "      <td>0</td>\n",
       "      <td>1</td>\n",
       "      <td>0</td>\n",
       "      <td>0</td>\n",
       "      <td>0</td>\n",
       "      <td>1</td>\n",
       "      <td>1</td>\n",
       "      <td>0</td>\n",
       "      <td>F</td>\n",
       "      <td>21</td>\n",
       "    </tr>\n",
       "    <tr>\n",
       "      <th>160</th>\n",
       "      <td>4</td>\n",
       "      <td>0</td>\n",
       "      <td>1</td>\n",
       "      <td>12.0</td>\n",
       "      <td>600.0</td>\n",
       "      <td>2</td>\n",
       "      <td>estudiante</td>\n",
       "      <td>indefinida</td>\n",
       "      <td>méxico</td>\n",
       "      <td>3</td>\n",
       "      <td>...</td>\n",
       "      <td>0</td>\n",
       "      <td>0</td>\n",
       "      <td>2</td>\n",
       "      <td>1</td>\n",
       "      <td>2</td>\n",
       "      <td>1</td>\n",
       "      <td>0</td>\n",
       "      <td>0</td>\n",
       "      <td>F</td>\n",
       "      <td>21</td>\n",
       "    </tr>\n",
       "  </tbody>\n",
       "</table>\n",
       "<p>161 rows × 45 columns</p>\n",
       "</div>"
      ],
      "text/plain": [
       "      ¿Qué tanto estás dispuesto a soportar maltrato físico o psicológico con tal de que una persona se quede a tu lado?  \\\n",
       "0                                                    3                                                                     \n",
       "1                                                    1                                                                     \n",
       "2                                                    1                                                                     \n",
       "3                                                    2                                                                     \n",
       "4                                                    1                                                                     \n",
       "..                                                 ...                                                                     \n",
       "156                                                  3                                                                     \n",
       "157                                                  2                                                                     \n",
       "158                                                  3                                                                     \n",
       "159                                                  1                                                                     \n",
       "160                                                  4                                                                     \n",
       "\n",
       "    Antes de haber sido infiel, ¿a ti te fueron infiel?  \\\n",
       "0                                                    3    \n",
       "1                                                    2    \n",
       "2                                                    3    \n",
       "3                                                    1    \n",
       "4                                                    0    \n",
       "..                                                 ...    \n",
       "156                                                  2    \n",
       "157                                                  1    \n",
       "158                                                  2    \n",
       "159                                                  0    \n",
       "160                                                  0    \n",
       "\n",
       "     Cuando estás en una relación, ¿Qué tan a menudo sientes de forma espontánea que la relación va a acabar?  \\\n",
       "0                                                    4                                                          \n",
       "1                                                    1                                                          \n",
       "2                                                    1                                                          \n",
       "3                                                    3                                                          \n",
       "4                                                    2                                                          \n",
       "..                                                 ...                                                          \n",
       "156                                                  5                                                          \n",
       "157                                                  3                                                          \n",
       "158                                                  2                                                          \n",
       "159                                                  2                                                          \n",
       "160                                                  1                                                          \n",
       "\n",
       "     En promedio, ¿Cuántas horas a la semana pasas/pasabas con tu pareja?  \\\n",
       "0                                                  8.0                      \n",
       "1                                                 20.0                      \n",
       "2                                                 35.0                      \n",
       "3                                                 35.0                      \n",
       "4                                                 12.0                      \n",
       "..                                                 ...                      \n",
       "156                                               22.5                      \n",
       "157                                               12.0                      \n",
       "158                                               50.0                      \n",
       "159                                               12.0                      \n",
       "160                                               12.0                      \n",
       "\n",
       "     En promedio, ¿Cuánto dinero le dedicas/dedicabas a tu pareja al mes?   \\\n",
       "0                                                800.0                       \n",
       "1                                               2000.0                       \n",
       "2                                               1200.0                       \n",
       "3                                               2000.0                       \n",
       "4                                                600.0                       \n",
       "..                                                 ...                       \n",
       "156                                              900.0                       \n",
       "157                                              600.0                       \n",
       "158                                             1500.0                       \n",
       "159                                              800.0                       \n",
       "160                                              600.0                       \n",
       "\n",
       "     Eres buena/bueno mintiendo    Ocupación Orientación Sexual    País  \\\n",
       "0                             2   estudiante       heterosexual  méxico   \n",
       "1                             5  programador       heterosexual  méxico   \n",
       "2                             5   estudiante       heterosexual  méxico   \n",
       "3                             5   trabajador       heterosexual  méxico   \n",
       "4                             5    empleado        heterosexual  méxico   \n",
       "..                          ...          ...                ...     ...   \n",
       "156                           4   estudiante       heterosexual  méxico   \n",
       "157                           3   estudiante       heterosexual  méxico   \n",
       "158                           3   enfermera        heterosexual  méxico   \n",
       "159                           4   estudiante           bisexual  méxico   \n",
       "160                           2   estudiante         indefinida  méxico   \n",
       "\n",
       "     Te aburres fácilmente.  ...  \\\n",
       "0                         2  ...   \n",
       "1                         1  ...   \n",
       "2                         5  ...   \n",
       "3                         3  ...   \n",
       "4                         4  ...   \n",
       "..                      ...  ...   \n",
       "156                       5  ...   \n",
       "157                       5  ...   \n",
       "158                       3  ...   \n",
       "159                       4  ...   \n",
       "160                       3  ...   \n",
       "\n",
       "     ¿Dependes de otras personas para animarte a realizar nuevas actividades?  \\\n",
       "0                                                    0                          \n",
       "1                                                    0                          \n",
       "2                                                    0                          \n",
       "3                                                    1                          \n",
       "4                                                    0                          \n",
       "..                                                 ...                          \n",
       "156                                                  0                          \n",
       "157                                                  1                          \n",
       "158                                                  1                          \n",
       "159                                                  0                          \n",
       "160                                                  0                          \n",
       "\n",
       "     ¿Eres segura/seguro de ti mismo?  ¿Has perdonado alguna infidelidad?  \\\n",
       "0                                   0                                   0   \n",
       "1                                   1                                   2   \n",
       "2                                   1                                   0   \n",
       "3                                   0                                   1   \n",
       "4                                   0                                   1   \n",
       "..                                ...                                 ...   \n",
       "156                                 0                                   0   \n",
       "157                                 1                                   0   \n",
       "158                                 1                                   0   \n",
       "159                                 1                                   0   \n",
       "160                                 0                                   2   \n",
       "\n",
       "     ¿Necesitas saber que hay gente que respalda tu opinión para poder expresarla?  \\\n",
       "0                                                    0                               \n",
       "1                                                    0                               \n",
       "2                                                    0                               \n",
       "3                                                    0                               \n",
       "4                                                    1                               \n",
       "..                                                 ...                               \n",
       "156                                                  1                               \n",
       "157                                                  0                               \n",
       "158                                                  0                               \n",
       "159                                                  0                               \n",
       "160                                                  1                               \n",
       "\n",
       "     ¿Te han perdonado alguna infidelidad?  \\\n",
       "0                                        2   \n",
       "1                                        2   \n",
       "2                                        2   \n",
       "3                                        0   \n",
       "4                                        1   \n",
       "..                                     ...   \n",
       "156                                      2   \n",
       "157                                      0   \n",
       "158                                      2   \n",
       "159                                      0   \n",
       "160                                      2   \n",
       "\n",
       "     ¿Te sientes segura/seguro estando sola/solo?   \\\n",
       "0                                                1   \n",
       "1                                                1   \n",
       "2                                                1   \n",
       "3                                                0   \n",
       "4                                                1   \n",
       "..                                             ...   \n",
       "156                                              1   \n",
       "157                                              1   \n",
       "158                                              1   \n",
       "159                                              1   \n",
       "160                                              1   \n",
       "\n",
       "     ¿Temes por \"terminar solo\"?   \\\n",
       "0                               0   \n",
       "1                               0   \n",
       "2                               0   \n",
       "3                               1   \n",
       "4                               1   \n",
       "..                            ...   \n",
       "156                             0   \n",
       "157                             0   \n",
       "158                             0   \n",
       "159                             1   \n",
       "160                             0   \n",
       "\n",
       "     ¿Tienes relaciones sexuales con personas que no conoces frecuentemente?  \\\n",
       "0                                                    0                         \n",
       "1                                                    1                         \n",
       "2                                                    0                         \n",
       "3                                                    0                         \n",
       "4                                                    0                         \n",
       "..                                                 ...                         \n",
       "156                                                  0                         \n",
       "157                                                  0                         \n",
       "158                                                  0                         \n",
       "159                                                  0                         \n",
       "160                                                  0                         \n",
       "\n",
       "     Sexo  Edad  \n",
       "0       F    21  \n",
       "1       M    22  \n",
       "2       M    19  \n",
       "3       M    21  \n",
       "4       F    23  \n",
       "..    ...   ...  \n",
       "156     M    20  \n",
       "157     M    18  \n",
       "158     F    26  \n",
       "159     F    21  \n",
       "160     F    21  \n",
       "\n",
       "[161 rows x 45 columns]"
      ]
     },
     "execution_count": 77,
     "metadata": {},
     "output_type": "execute_result"
    }
   ],
   "source": [
    "df_numericos"
   ]
  },
  {
   "cell_type": "markdown",
   "metadata": {},
   "source": [
    "Por el momento, solo se trabajará con df_numericos."
   ]
  },
  {
   "cell_type": "code",
   "execution_count": 78,
   "metadata": {},
   "outputs": [],
   "source": [
    "#df_numericos.describe().T"
   ]
  },
  {
   "cell_type": "markdown",
   "metadata": {},
   "source": [
    "Proporción de Sexo\n",
    "---\n",
    "Existe una proporción mayor en la base de datos en cuanto mujeres comparada a la de hombres."
   ]
  },
  {
   "cell_type": "code",
   "execution_count": 79,
   "metadata": {},
   "outputs": [
    {
     "data": {
      "text/plain": [
       "<matplotlib.axes._subplots.AxesSubplot at 0x2cecdb48940>"
      ]
     },
     "execution_count": 79,
     "metadata": {},
     "output_type": "execute_result"
    },
    {
     "data": {
      "image/png": "[encoded data removed]",
      "text/plain": [
       "<Figure size 864x360 with 1 Axes>"
      ]
     },
     "metadata": {
      "needs_background": "light"
     },
     "output_type": "display_data"
    }
   ],
   "source": [
    "fig, ax = plt.subplots()\n",
    "fig.set_size_inches(12,5)\n",
    "sns.countplot(x = df_numericos[\"Sexo\"], data = df_numericos, palette = \"rocket\")"
   ]
  },
  {
   "cell_type": "markdown",
   "metadata": {},
   "source": [
    "Proporción de Ocupación\n",
    "---\n",
    "La mayoría de personas son estudiantes."
   ]
  },
  {
   "cell_type": "code",
   "execution_count": 80,
   "metadata": {},
   "outputs": [
    {
     "data": {
      "text/plain": [
       "<matplotlib.axes._subplots.AxesSubplot at 0x2cece39b6a0>"
      ]
     },
     "execution_count": 80,
     "metadata": {},
     "output_type": "execute_result"
    },
    {
     "data": {
      "image/png": "[encoded data removed]",
      "text/plain": [
       "<Figure size 864x360 with 1 Axes>"
      ]
     },
     "metadata": {
      "needs_background": "light"
     },
     "output_type": "display_data"
    }
   ],
   "source": [
    "fig, ax = plt.subplots()\n",
    "plt.xticks(rotation = \"vertical\")\n",
    "fig.set_size_inches(12,5)\n",
    "sns.countplot(x = df_numericos[\"Ocupación\"], data = df_numericos, palette ='twilight')"
   ]
  },
  {
   "cell_type": "markdown",
   "metadata": {},
   "source": [
    "Proporción de Edad\n",
    "---\n",
    "Las gráficas revelan un sesgo negativo bastante prolongado, con una curtosis exagerada además de una cola derecha muy extendida. Esto puede deberse a:<br>\n",
    "- Se tiene la presencia de algunos _outliers_ que, por el momento, no es necesario retirar.\n",
    "- La mayoría de personas fueron estudiantes, por lo tanto, la moda es demasiada grande y por lo tanto la curtosis incrementa."
   ]
  },
  {
   "cell_type": "code",
   "execution_count": 81,
   "metadata": {},
   "outputs": [
    {
     "data": {
      "text/plain": [
       "<matplotlib.axes._subplots.AxesSubplot at 0x2cece6acb80>"
      ]
     },
     "execution_count": 81,
     "metadata": {},
     "output_type": "execute_result"
    },
    {
     "data": {
      "image/png": "[encoded data removed]",
      "text/plain": [
       "<Figure size 864x360 with 1 Axes>"
      ]
     },
     "metadata": {
      "needs_background": "light"
     },
     "output_type": "display_data"
    }
   ],
   "source": [
    "fig, ax = plt.subplots()\n",
    "fig.set_size_inches(12,5)\n",
    "sns.countplot(x = df_numericos[\"Edad\"], data = df_numericos, palette = \"cubehelix\")"
   ]
  },
  {
   "cell_type": "code",
   "execution_count": 82,
   "metadata": {},
   "outputs": [
    {
     "data": {
      "text/plain": [
       "<matplotlib.axes._subplots.AxesSubplot at 0x2cece5d80a0>"
      ]
     },
     "execution_count": 82,
     "metadata": {},
     "output_type": "execute_result"
    },
    {
     "data": {
      "image/png": "[encoded data removed]",
      "text/plain": [
       "<Figure size 864x360 with 1 Axes>"
      ]
     },
     "metadata": {
      "needs_background": "light"
     },
     "output_type": "display_data"
    }
   ],
   "source": [
    "fig, ax = plt.subplots()\n",
    "fig.set_size_inches(12,5)\n",
    "sns.distplot(df_numericos[\"Edad\"], color = \"r\")"
   ]
  },
  {
   "cell_type": "markdown",
   "metadata": {},
   "source": [
    "Proporción Edad/Sexo\n",
    "---\n",
    "Es visible la diferencia entre mujeres y hombres en los datos."
   ]
  },
  {
   "cell_type": "code",
   "execution_count": 83,
   "metadata": {},
   "outputs": [
    {
     "data": {
      "text/plain": [
       "<matplotlib.axes._subplots.AxesSubplot at 0x2cece688100>"
      ]
     },
     "execution_count": 83,
     "metadata": {},
     "output_type": "execute_result"
    },
    {
     "data": {
      "image/png": "[encoded data removed]",
      "text/plain": [
       "<Figure size 864x360 with 1 Axes>"
      ]
     },
     "metadata": {
      "needs_background": "light"
     },
     "output_type": "display_data"
    }
   ],
   "source": [
    "fig, ax = plt.subplots()\n",
    "fig.set_size_inches(12,5)\n",
    "sns.countplot(x = \"Edad\",hue = \"Sexo\",data = df_numericos,edgecolor =(0,0,0),linewidth = 2)"
   ]
  },
  {
   "cell_type": "markdown",
   "metadata": {},
   "source": [
    "¿Qué Sexo tiene (en proporción) más baja autoestima?\n",
    "---\n",
    "Por una diferencia bastante considerable y por medio de un contraste entre ambos casos, podemos asegurar que los hombres tienen, en promedio, mayor seguridad que las mujeres. (Acorde a lo resumida EN ESTA BASE DE DATOS)"
   ]
  },
  {
   "cell_type": "code",
   "execution_count": 84,
   "metadata": {},
   "outputs": [
    {
     "data": {
      "text/plain": [
       "<matplotlib.axes._subplots.AxesSubplot at 0x2cece8e5e20>"
      ]
     },
     "execution_count": 84,
     "metadata": {},
     "output_type": "execute_result"
    },
    {
     "data": {
      "image/png": "[encoded data removed]",
      "text/plain": [
       "<Figure size 864x360 with 1 Axes>"
      ]
     },
     "metadata": {
      "needs_background": "light"
     },
     "output_type": "display_data"
    }
   ],
   "source": [
    "fig, ax = plt.subplots()\n",
    "fig.set_size_inches(12,5)\n",
    "sns.countplot(x= df[\"baja autoestima\"], hue = \"Sexo\", data = df_numericos, palette =\"husl\" )"
   ]
  },
  {
   "cell_type": "markdown",
   "metadata": {},
   "source": [
    "¿Qué Sexo es más celoso?\n",
    "---\n",
    "Los hombres se mantienen neutral en cuanto a sus celos; sin embargo, las mujeres suelen tener dos umbrales : aquellas que no son celosas y en una menor proporción, aquella que son muy celosas. La gráfica nos revela que la cantidad de hombres muy celosos es muy baja."
   ]
  },
  {
   "cell_type": "code",
   "execution_count": 85,
   "metadata": {},
   "outputs": [
    {
     "data": {
      "text/plain": [
       "Text(0, 0.5, 'Número de personas')"
      ]
     },
     "execution_count": 85,
     "metadata": {},
     "output_type": "execute_result"
    },
    {
     "data": {
      "image/png": "[encoded data removed]",
      "text/plain": [
       "<Figure size 864x360 with 1 Axes>"
      ]
     },
     "metadata": {
      "needs_background": "light"
     },
     "output_type": "display_data"
    }
   ],
   "source": [
    "fig, ax = plt.subplots()\n",
    "fig.set_size_inches(12,5)\n",
    "p = sns.countplot(x= df[\"Te consideras una persona celosa.\"], hue = \"Sexo\", data = df_numericos, palette =\"husl\" )\n",
    "p.set_ylabel(\"Número de personas\")"
   ]
  },
  {
   "cell_type": "markdown",
   "metadata": {},
   "source": [
    "¿Tiene la orientación sexual algo que ver con respecto a los celos?\n",
    "---\n",
    "Tomando en cuenta que la base de datos muestra muchos registros de personas heterosexuales no es correcto hacer comparaciones entre orientaciones sexuales; sin embargo, sí que se pueden concluir algunas cosas entre mismas categorías: <br>\n",
    "- Las personas heterosexuales suelen ser muy celosas, pues las dos categorías con más umbral de celos están disparadas.\n",
    "- Lo mismo puede concluirde de los homosexuales.\n",
    "- Generalizando (solo para motivos de la investigación) quienes no se identifican con alguna de las categorías (indefinidos) son muy celosos, posicionandose todos en el quinto nivel.\n"
   ]
  },
  {
   "cell_type": "code",
   "execution_count": 86,
   "metadata": {},
   "outputs": [
    {
     "data": {
      "text/plain": [
       "<matplotlib.axes._subplots.AxesSubplot at 0x2ceceae8400>"
      ]
     },
     "execution_count": 86,
     "metadata": {},
     "output_type": "execute_result"
    },
    {
     "data": {
      "image/png": "[encoded data removed]",
      "text/plain": [
       "<Figure size 864x360 with 1 Axes>"
      ]
     },
     "metadata": {
      "needs_background": "light"
     },
     "output_type": "display_data"
    }
   ],
   "source": [
    "fig, ax = plt.subplots()\n",
    "fig.set_size_inches(12,5)\n",
    "sns.countplot(x= df[\"Te consideras una persona ansiosa.\"], hue = \"Orientación Sexual\", data = df_numericos, palette =\"husl\" )"
   ]
  },
  {
   "cell_type": "markdown",
   "metadata": {},
   "source": [
    "¿Qué Sexo tiende a ser más infiel?\n",
    "---\n",
    "Considerando que hay un número de registros mucho mayor de mujeres que de hombres, ambos Sexos tienden a ser igual tanto infieles como fieles. "
   ]
  },
  {
   "cell_type": "code",
   "execution_count": 87,
   "metadata": {},
   "outputs": [
    {
     "data": {
      "text/plain": [
       "<matplotlib.axes._subplots.AxesSubplot at 0x2cecebc75e0>"
      ]
     },
     "execution_count": 87,
     "metadata": {},
     "output_type": "execute_result"
    },
    {
     "data": {
      "image/png": "[encoded data removed]",
      "text/plain": [
       "<Figure size 864x360 with 1 Axes>"
      ]
     },
     "metadata": {
      "needs_background": "light"
     },
     "output_type": "display_data"
    }
   ],
   "source": [
    "fig, ax = plt.subplots()\n",
    "fig.set_size_inches(12,5)\n",
    "sns.countplot(x= df[\"¿Alguna vez has sido infiel?\"], hue = \"Sexo\", data = df_numericos, palette =\"husl\" )"
   ]
  },
  {
   "cell_type": "markdown",
   "metadata": {},
   "source": [
    "¿Qué Sexo tiene relaciones más duraderas?\n",
    "---\n",
    "Es claro que las mujeres tienen relaciones más duraderas, teniendo casos extremos de llegar a más de 40 meses. Probablemente estas relaciones son no noviazgos sino matrimonios. En general, la mediana de las mujeres es mayor que a la de los hombres."
   ]
  },
  {
   "cell_type": "code",
   "execution_count": 88,
   "metadata": {},
   "outputs": [
    {
     "data": {
      "text/plain": [
       "<matplotlib.axes._subplots.AxesSubplot at 0x2cecfc26f10>"
      ]
     },
     "execution_count": 88,
     "metadata": {},
     "output_type": "execute_result"
    },
    {
     "data": {
      "image/png": "[encoded data removed]",
      "text/plain": [
       "<Figure size 720x720 with 1 Axes>"
      ]
     },
     "metadata": {
      "needs_background": "light"
     },
     "output_type": "display_data"
    }
   ],
   "source": [
    "fig, ax = plt.subplots()\n",
    "fig.set_size_inches(10,10)\n",
    "sns.boxplot(x = \"Sexo\", y = \"¿Cuánto ha durado tu relación más larga?\", data = df_numericos)\n"
   ]
  },
  {
   "cell_type": "markdown",
   "metadata": {},
   "source": [
    "¿Qué Sexo considera más tener hijos?\n",
    "---\n",
    "Una gran proporción de mujeres no desea tener hijos, mientras que una mayor proporción de hombres desea tenerlos. El mimso número de personas y de ambos sexos aún siguen indecisos."
   ]
  },
  {
   "cell_type": "code",
   "execution_count": 89,
   "metadata": {},
   "outputs": [
    {
     "data": {
      "text/plain": [
       "<matplotlib.axes._subplots.AxesSubplot at 0x2cecfc85f70>"
      ]
     },
     "execution_count": 89,
     "metadata": {},
     "output_type": "execute_result"
    },
    {
     "data": {
      "image/png": "[encoded data removed]",
      "text/plain": [
       "<Figure size 864x360 with 1 Axes>"
      ]
     },
     "metadata": {
      "needs_background": "light"
     },
     "output_type": "display_data"
    }
   ],
   "source": [
    "fig, ax = plt.subplots(figsize = [12,5])\n",
    "sns.countplot(x = \"¿Consideras la posibilidad de tener hijos?\", hue = \"Sexo\", data = df_numericos)"
   ]
  },
  {
   "cell_type": "markdown",
   "metadata": {},
   "source": [
    "¿Qué Sexo ha tenido más parejas formales en su vida?\n",
    "---\n",
    "Las mujeres tienden a tener menos parejas formales en su vida. Por contraparte, los hombres tienen en menor medida parejas pero cuando estas existen, son en mayor cantidad. Sí bien, los valores extremos corresponden en igual proporción a hombres y mujeres, en la cola derecha se aprecia una cola más cargada por parte de los hombres. En el boxplot se aprecia una media (hombres )del tamaño del 3 cuartil en las mujeres."
   ]
  },
  {
   "cell_type": "code",
   "execution_count": 90,
   "metadata": {},
   "outputs": [
    {
     "data": {
      "text/plain": [
       "<matplotlib.axes._subplots.AxesSubplot at 0x2cece36e190>"
      ]
     },
     "execution_count": 90,
     "metadata": {},
     "output_type": "execute_result"
    },
    {
     "data": {
      "image/png": "[encoded data removed]",
      "text/plain": [
       "<Figure size 864x360 with 1 Axes>"
      ]
     },
     "metadata": {
      "needs_background": "light"
     },
     "output_type": "display_data"
    }
   ],
   "source": [
    "fig, ax = plt.subplots(figsize = [12,5])\n",
    "sns.countplot(hue = \"Sexo\", x = \"¿Cuántas parejas has tenido en toda tu vida?\", data = df_numericos)"
   ]
  },
  {
   "cell_type": "code",
   "execution_count": 91,
   "metadata": {},
   "outputs": [
    {
     "data": {
      "text/plain": [
       "<matplotlib.axes._subplots.AxesSubplot at 0x2cece9f77f0>"
      ]
     },
     "execution_count": 91,
     "metadata": {},
     "output_type": "execute_result"
    },
    {
     "data": {
      "image/png": "[encoded data removed]",
      "text/plain": [
       "<Figure size 864x360 with 1 Axes>"
      ]
     },
     "metadata": {
      "needs_background": "light"
     },
     "output_type": "display_data"
    }
   ],
   "source": [
    "fig, ax = plt.subplots(figsize = [12,5])\n",
    "sns.boxplot(x = \"Sexo\", y = \"¿Cuántas parejas has tenido en toda tu vida?\", data = df_numericos, palette = \"Set2\" )\n",
    "sns.stripplot(x=\"Sexo\", y=\"¿Cuántas parejas has tenido en toda tu vida?\", data=df_numericos, color = \".3\")"
   ]
  },
  {
   "cell_type": "markdown",
   "metadata": {},
   "source": [
    "¿Existirá alguna relación entre el número de parejas y el sentimiento de priorización por parte de la pareja?\n",
    "---\n",
    "Se ignoraran los 2 _outliers_ que se presentan en el número de parejas \n",
    "- NO lugar prioritario en la relación : Tanto hombres como mujeres tienen una mediana de 3-5 parejas, siendo mayor la de hombres. Sin embargo, dentro de este grupo, más mujeres suelen tener más parejas sobrepasando la cantidad de 10.\n",
    "\n",
    "- Sí lugar prioritario en la relación : Los hombres que necesitan más \"atención\" por parte de sus parejas son también los que más parejas han tenido; caso contrario con las mujeres. \n",
    "\n",
    "Sí se hace una comparación entre los mismos sexos : las mujeres tienen una misma cantidad de parejas sin importar que tanta atención busquen por parte de sus parejas. Existe un mayor volumen de hombres que necesiten tener toda la atención de su pareja y estos son los que más cantidad de parejas tienen. "
   ]
  },
  {
   "cell_type": "code",
   "execution_count": 92,
   "metadata": {},
   "outputs": [
    {
     "data": {
      "text/plain": [
       "<matplotlib.axes._subplots.AxesSubplot at 0x2cecea783a0>"
      ]
     },
     "execution_count": 92,
     "metadata": {},
     "output_type": "execute_result"
    },
    {
     "data": {
      "image/png": "[encoded data removed]",
      "text/plain": [
       "<Figure size 864x360 with 1 Axes>"
      ]
     },
     "metadata": {
      "needs_background": "light"
     },
     "output_type": "display_data"
    }
   ],
   "source": [
    "fig, ax = plt.subplots(figsize = [12,5])\n",
    "sns.boxplot(data = df_numericos, x = \"lugar prioritario de la relación\", y = '¿Cuántas parejas has tenido en toda tu vida?', hue = \"Sexo\", palette = \"husl\")"
   ]
  },
  {
   "cell_type": "code",
   "execution_count": 93,
   "metadata": {},
   "outputs": [
    {
     "data": {
      "text/plain": [
       "<matplotlib.axes._subplots.AxesSubplot at 0x2cecfe607f0>"
      ]
     },
     "execution_count": 93,
     "metadata": {},
     "output_type": "execute_result"
    },
    {
     "data": {
      "image/png": "[encoded data removed]",
      "text/plain": [
       "<Figure size 864x360 with 1 Axes>"
      ]
     },
     "metadata": {
      "needs_background": "light"
     },
     "output_type": "display_data"
    }
   ],
   "source": [
    "fig, ax = plt.subplots(figsize = [12,5])\n",
    "sns.countplot(data = df_numericos, hue = \"lugar prioritario de la relación\", x = '¿Cuántas parejas has tenido en toda tu vida?')"
   ]
  },
  {
   "cell_type": "markdown",
   "metadata": {},
   "source": [
    "¿Haber sido engañado tendrá alguna relación con el sentimiento de inseguridad?\n",
    "---\n",
    "- Personas a las cuales No les han sido infieles : El hecho de no haber sufrido alguna infidelidad no parece afectar/beneficiar el estado de seguridad de una persona.\n",
    "- Personas a las cuales Sí les han sido infieles : El número de personas inseguras aumento casi al 100%; no obstante, se puede ver que esto también sucedió con en número de personas seguras. "
   ]
  },
  {
   "cell_type": "code",
   "execution_count": 94,
   "metadata": {},
   "outputs": [
    {
     "data": {
      "text/plain": [
       "<matplotlib.axes._subplots.AxesSubplot at 0x2cecfd28580>"
      ]
     },
     "execution_count": 94,
     "metadata": {},
     "output_type": "execute_result"
    },
    {
     "data": {
      "image/png": "[encoded data removed]",
      "text/plain": [
       "<Figure size 864x360 with 1 Axes>"
      ]
     },
     "metadata": {
      "needs_background": "light"
     },
     "output_type": "display_data"
    }
   ],
   "source": [
    "fig, ax = plt.subplots(figsize = [12,5])\n",
    "sns.countplot(x = \"¿Alguna vez te han sido infiel?\", hue = \"¿Eres segura/seguro de ti mismo?\", data = df_numericos, palette =\"rocket\")"
   ]
  },
  {
   "cell_type": "markdown",
   "metadata": {},
   "source": [
    "¿Tener relaciones sexuales con muchas personas tiene alguna relación con haber sido infiel?\n",
    "---\n",
    "No se puede concluir algo certero. Las personas que no han sido infieles suelen tener menos parejas sexuales."
   ]
  },
  {
   "cell_type": "code",
   "execution_count": 95,
   "metadata": {},
   "outputs": [
    {
     "data": {
      "text/plain": [
       "<matplotlib.axes._subplots.AxesSubplot at 0x2cecfe01df0>"
      ]
     },
     "execution_count": 95,
     "metadata": {},
     "output_type": "execute_result"
    },
    {
     "data": {
      "image/png": "[encoded data removed]",
      "text/plain": [
       "<Figure size 864x360 with 1 Axes>"
      ]
     },
     "metadata": {
      "needs_background": "light"
     },
     "output_type": "display_data"
    }
   ],
   "source": [
    "fig, ax = plt.subplots(figsize = [12,5])\n",
    "sns.countplot(x = \"¿Alguna vez has sido infiel?\", hue = \"¿Tienes relaciones sexuales con personas que no conoces frecuentemente?\", data = df_numericos, palette =\"rocket\")"
   ]
  },
  {
   "cell_type": "markdown",
   "metadata": {},
   "source": [
    "¿Qué sexo dedica más dinero a su pareja?\n",
    "---\n",
    "A medida que la cifra en dinero va aumentando, los hombres tienen mayor presencia. La mayoría de los _outliers_ son masculinos. En el otro extremo, valores de 0 tienen mayor presencia de mujeres. Considerando que la mayor parte de los encuestados son estudiantes y que es muy posible no perciban un salario fijo, las mujeres reputan el valor en promedio que más dinero dedica a sus parejas, con un valor de 600 pesos ."
   ]
  },
  {
   "cell_type": "code",
   "execution_count": 96,
   "metadata": {},
   "outputs": [
    {
     "data": {
      "text/plain": [
       "<matplotlib.axes._subplots.AxesSubplot at 0x2ced01a0fd0>"
      ]
     },
     "execution_count": 96,
     "metadata": {},
     "output_type": "execute_result"
    },
    {
     "data": {
      "image/png": "[encoded data removed]",
      "text/plain": [
       "<Figure size 1800x720 with 1 Axes>"
      ]
     },
     "metadata": {
      "needs_background": "light"
     },
     "output_type": "display_data"
    }
   ],
   "source": [
    "fig, ax = plt.subplots(figsize = [25,10])\n",
    "sns.countplot(data = df_numericos,x = \"En promedio, ¿Cuánto dinero le dedicas/dedicabas a tu pareja al mes? \", hue = \"Sexo\", palette = \"Set2\")"
   ]
  },
  {
   "cell_type": "code",
   "execution_count": 97,
   "metadata": {},
   "outputs": [
    {
     "name": "stderr",
     "output_type": "stream",
     "text": [
      "C:\\Users\\actda\\anaconda3\\lib\\site-packages\\seaborn\\axisgrid.py:723: UserWarning: Using the countplot function without specifying `order` is likely to produce an incorrect plot.\n",
      "  warnings.warn(warning)\n"
     ]
    },
    {
     "data": {
      "text/plain": [
       "<seaborn.axisgrid.FacetGrid at 0x2cecfd19b80>"
      ]
     },
     "execution_count": 97,
     "metadata": {},
     "output_type": "execute_result"
    },
    {
     "data": {
      "image/png": "[encoded data removed]",
      "text/plain": [
       "<Figure size 1440x720 with 2 Axes>"
      ]
     },
     "metadata": {
      "needs_background": "light"
     },
     "output_type": "display_data"
    }
   ],
   "source": [
    "g = sns.FacetGrid(df_numericos, col = \"Sexo\", height = 10, hue = \"Sexo\", hue_kws = {\"color\": [\"pink\", \"blue\"]})\n",
    "g.map(sns.countplot, \"En promedio, ¿Cuánto dinero le dedicas/dedicabas a tu pareja al mes? \")\n",
    "g.set_xticklabels(rotation = 45)"
   ]
  },
  {
   "cell_type": "markdown",
   "metadata": {},
   "source": [
    "¿Existe alguna relación entre el número de horas semanales compartidas con la pareja y el dinero dedicado?\n",
    "---\n",
    "No hay un patrón definido. La mayoría de las parejas pasa entre 5 y 20 horas a la semana y de entre todas ellas, la maría no gasta más de $1000 en sus parejas. "
   ]
  },
  {
   "cell_type": "code",
   "execution_count": 98,
   "metadata": {},
   "outputs": [
    {
     "data": {
      "text/plain": [
       "<matplotlib.axes._subplots.AxesSubplot at 0x2ced0ac1d60>"
      ]
     },
     "execution_count": 98,
     "metadata": {},
     "output_type": "execute_result"
    },
    {
     "data": {
      "image/png": "[encoded data removed]",
      "text/plain": [
       "<Figure size 1728x360 with 1 Axes>"
      ]
     },
     "metadata": {
      "needs_background": "light"
     },
     "output_type": "display_data"
    }
   ],
   "source": [
    "fig, ax = plt.subplots(figsize = [24,5])\n",
    "sns.stripplot(x = \"En promedio, ¿Cuántas horas a la semana pasas/pasabas con tu pareja?\", y = \"En promedio, ¿Cuánto dinero le dedicas/dedicabas a tu pareja al mes? \", data = df_numericos)\n",
    "#sns.boxplot(x = \"En promedio, ¿Cuántas horas a la semana pasas/pasabas con tu pareja?\", y = \"En promedio, ¿Cuánto dinero le dedicas/dedicabas a tu pareja al mes? \", data = df_numericos)"
   ]
  },
  {
   "cell_type": "markdown",
   "metadata": {},
   "source": [
    "¿El miedo por \"terminar solo\" influye en el numero de hijos deseados?\n",
    "---\n",
    "El miedo a terminar solo SI influye en el número de hijos deseados. Como puede observarse, en cuanto a las mujeres, el minimo de hijos entre ambas categorías es el mismo con la peculiaridad de que más mujeres pretender no tener hijos cuando estás no presentan miedo a la soledad. Hablando de los hombres, es notorio como TODOS los hombres que tienen miedo a la soledad desean al menos 1 hijo. <br>\n",
    "En general, con o sin miedo, las mujeres podrían desear a lo mucho 4 hijos; no obstante, hay hombres que consideran tener hasta 5 hijos, pero esto es más bien un _outlier_."
   ]
  },
  {
   "cell_type": "code",
   "execution_count": 121,
   "metadata": {},
   "outputs": [
    {
     "data": {
      "text/plain": [
       "<matplotlib.axes._subplots.AxesSubplot at 0x2ced2528040>"
      ]
     },
     "execution_count": 121,
     "metadata": {},
     "output_type": "execute_result"
    },
    {
     "data": {
      "image/png": "[encoded data removed]",
      "text/plain": [
       "<Figure size 864x360 with 1 Axes>"
      ]
     },
     "metadata": {
      "needs_background": "light"
     },
     "output_type": "display_data"
    }
   ],
   "source": [
    "fig, ax = plt.subplots(figsize = [12,5])\n",
    "sns.boxplot(data = df_numericos, x = \"¿Temes por \\\"terminar solo\\\"? \", y = \"¿Cuántos hijos tienes/te gustaría tener?\", hue = \"Sexo\")\n"
   ]
  },
  {
   "cell_type": "markdown",
   "metadata": {},
   "source": [
    "¿Haber tenido experiencias de infidelidad provoca un sentimiento de querer ser infiel?\n",
    "---\n",
    "Hay un gran número de personas a las cuales no les han sido infiel. Puede contrastarse que independientemente del sexo, la actitud o los ideales de cada persona son los factores importantes a la ahora de sentir despecho o ganas de \"venganza\" a la hora de tener una nueva pareja. Esto se infiele porque los niveles 1 y 3 son prácticamente los mismos. "
   ]
  },
  {
   "cell_type": "code",
   "execution_count": 124,
   "metadata": {},
   "outputs": [
    {
     "data": {
      "text/plain": [
       "<matplotlib.axes._subplots.AxesSubplot at 0x2ced3a462e0>"
      ]
     },
     "execution_count": 124,
     "metadata": {},
     "output_type": "execute_result"
    },
    {
     "data": {
      "image/png": "[encoded data removed]",
      "text/plain": [
       "<Figure size 1080x720 with 1 Axes>"
      ]
     },
     "metadata": {
      "needs_background": "light"
     },
     "output_type": "display_data"
    }
   ],
   "source": [
    "fig, ax = plt.subplots(figsize = [15,10])\n",
    "sns.countplot(x = 'Antes de haber sido infiel, ¿a ti te fueron infiel?',hue = \"Sexo\", data = df_numericos, palette = \"cubehelix\" )"
   ]
  },
  {
   "cell_type": "markdown",
   "metadata": {},
   "source": [
    "¿Soportar malos tratos es únicamente una característica de las personas con baja autoestima?\n",
    "---\n",
    "Al parecer no influye el tener mala o buena autestima a la hora de la tolerancia del maltrato por parte de la pareja. Podría remarcarse que a nivel menor aquellos con baja autestima son más dados a soportar un maltrato. "
   ]
  },
  {
   "cell_type": "code",
   "execution_count": 131,
   "metadata": {},
   "outputs": [
    {
     "data": {
      "text/plain": [
       "<matplotlib.axes._subplots.AxesSubplot at 0x2ced3b40b20>"
      ]
     },
     "execution_count": 131,
     "metadata": {},
     "output_type": "execute_result"
    },
    {
     "data": {
      "image/png": "[encoded data removed]",
      "text/plain": [
       "<Figure size 864x576 with 1 Axes>"
      ]
     },
     "metadata": {
      "needs_background": "light"
     },
     "output_type": "display_data"
    }
   ],
   "source": [
    "fig, ax = plt.subplots(figsize = [12,8])\n",
    "sns.violinplot(x = \"baja autoestima\", y = \" ¿Qué tanto estás dispuesto a soportar maltrato físico o psicológico con tal de que una persona se quede a tu lado?\",\n",
    "               data = df_numericos, palette = \"Set2\")\n",
    "sns.stripplot(x = \"baja autoestima\", y = \" ¿Qué tanto estás dispuesto a soportar maltrato físico o psicológico con tal de que una persona se quede a tu lado?\",\n",
    "               data = df_numericos)"
   ]
  },
  {
   "cell_type": "markdown",
   "metadata": {},
   "source": [
    "¿El número de parejas sexuales tiene que ver con un estado de ánimo disfórico?\n",
    "---\n",
    "Las personas que no se identifican con tener un estado de ánimo disfórtico tienden a tener menor cantidad de parejas sexuales; sin embargo, comparando entre los grupos que tienen relaciones sexuales con diferentes personas frecuentemente, parese ser que el estado de ánimo no disfórico apunta a la necesidad de aumentar el número de parejas."
   ]
  },
  {
   "cell_type": "code",
   "execution_count": 139,
   "metadata": {},
   "outputs": [
    {
     "data": {
      "text/plain": [
       "<matplotlib.axes._subplots.AxesSubplot at 0x2ced4a40cd0>"
      ]
     },
     "execution_count": 139,
     "metadata": {},
     "output_type": "execute_result"
    },
    {
     "data": {
      "image/png": "[encoded data removed]",
      "text/plain": [
       "<Figure size 864x360 with 1 Axes>"
      ]
     },
     "metadata": {
      "needs_background": "light"
     },
     "output_type": "display_data"
    }
   ],
   "source": [
    "fig, ax = plt.subplots(figsize = [12,5])\n",
    "sns.countplot(x = 'estado de ánimo disfórico',hue = \"¿Tienes relaciones sexuales con personas que no conoces frecuentemente?\", data = df_numericos, palette = \"hsv\" )"
   ]
  },
  {
   "cell_type": "markdown",
   "metadata": {},
   "source": [
    "¿Las personas que se sienten inseguras estando solas tienen/desean tener más hijos?\n",
    "---\n",
    "Se da una tendencia en la que las personas que más seguras se sienten solas desean tener mayor cantidad de hijos en cualquier caso. Esto puede estar sesgado por la cantidad de gente que acepto ser segurad de si misma."
   ]
  },
  {
   "cell_type": "code",
   "execution_count": 138,
   "metadata": {},
   "outputs": [
    {
     "data": {
      "text/plain": [
       "<matplotlib.axes._subplots.AxesSubplot at 0x2ced4a2ea90>"
      ]
     },
     "execution_count": 138,
     "metadata": {},
     "output_type": "execute_result"
    },
    {
     "data": {
      "image/png": "[encoded data removed]",
      "text/plain": [
       "<Figure size 864x360 with 1 Axes>"
      ]
     },
     "metadata": {
      "needs_background": "light"
     },
     "output_type": "display_data"
    }
   ],
   "source": [
    "fig, ax = plt.subplots(figsize = [12,5])\n",
    "sns.stripplot(x = '¿Te sientes segura/seguro estando sola/solo? ', y = '¿Cuántos hijos tienes/te gustaría tener?', data = df_numericos, palette = \"cubehelix\" )"
   ]
  },
  {
   "cell_type": "markdown",
   "metadata": {},
   "source": [
    "¿Regresar con una expareja está relacionado con la inestabilidad emocional?\n",
    "---\n",
    "En general, no existe una diferencia marcada entre haber vuelto con una ex pareja o no en relación a una persona emocionalmente inestable, a excepción de la categoría neutra (3). Podría remarcarse que aquellas personas que han vuelto con su expareja y que son emocionalmente inestables son más que aquellas que no han vuelto con sus ex parejas. "
   ]
  },
  {
   "cell_type": "code",
   "execution_count": 142,
   "metadata": {},
   "outputs": [
    {
     "data": {
      "text/plain": [
       "<matplotlib.axes._subplots.AxesSubplot at 0x2ced4b8d9a0>"
      ]
     },
     "execution_count": 142,
     "metadata": {},
     "output_type": "execute_result"
    },
    {
     "data": {
      "image/png": "[encoded data removed]",
      "text/plain": [
       "<Figure size 1080x720 with 1 Axes>"
      ]
     },
     "metadata": {
      "needs_background": "light"
     },
     "output_type": "display_data"
    }
   ],
   "source": [
    "fig, ax = plt.subplots(figsize = [15,10])\n",
    "sns.countplot(x = '¿Alguna vez has regresado con una ex pareja?',hue = \"Te consideras una persona emocionalmente inestable.\", data = df_numericos, palette = \"hsv\" )"
   ]
  },
  {
   "cell_type": "markdown",
   "metadata": {},
   "source": [
    "<h1><center>MODELING : DATOS NUMÉRICOS</center></h1>"
   ]
  },
  {
   "cell_type": "markdown",
   "metadata": {},
   "source": [
    "<h1><center>ANÁLISIS DE SENTIMIENTOS</center></h1>"
   ]
  }
 ],
 "metadata": {
  "kernelspec": {
   "display_name": "Python 3",
   "language": "python",
   "name": "python3"
  },
  "language_info": {
   "codemirror_mode": {
    "name": "ipython",
    "version": 3
   },
   "file_extension": ".py",
   "mimetype": "text/x-python",
   "name": "python",
   "nbconvert_exporter": "python",
   "pygments_lexer": "ipython3",
   "version": "3.8.3"
  },
  "toc-autonumbering": false,
  "toc-showmarkdowntxt": false
 },
 "nbformat": 4,
 "nbformat_minor": 4
}
